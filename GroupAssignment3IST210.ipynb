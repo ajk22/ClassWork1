{
  "nbformat": 4,
  "nbformat_minor": 0,
  "metadata": {
    "colab": {
      "name": "Final_GroupAssignment3_IST210.ipynb",
      "provenance": [],
      "authorship_tag": "ABX9TyM2pPI09HfPOBX/dW/UUowf",
      "include_colab_link": true
    },
    "kernelspec": {
      "name": "python3",
      "display_name": "Python 3"
    }
  },
  "cells": [
    {
      "cell_type": "markdown",
      "metadata": {
        "id": "view-in-github",
        "colab_type": "text"
      },
      "source": [
        "<a href=\"https://colab.research.google.com/github/ajk22/ClassWork1/blob/master/GroupAssignment3IST210.ipynb\" target=\"_parent\"><img src=\"https://colab.research.google.com/assets/colab-badge.svg\" alt=\"Open In Colab\"/></a>"
      ]
    },
    {
      "cell_type": "code",
      "metadata": {
        "colab": {
          "base_uri": "https://localhost:8080/"
        },
        "id": "MBNLEtTJMfwt",
        "outputId": "0a9618fd-0ca4-4ca7-94c8-090c9c350e43"
      },
      "source": [
        "%load_ext sql"
      ],
      "execution_count": null,
      "outputs": [
        {
          "output_type": "stream",
          "text": [
            "The sql extension is already loaded. To reload it, use:\n",
            "  %reload_ext sql\n"
          ],
          "name": "stdout"
        }
      ]
    },
    {
      "cell_type": "code",
      "metadata": {
        "id": "boE54vm_NX0h",
        "colab": {
          "base_uri": "https://localhost:8080/",
          "height": 34
        },
        "outputId": "16b6e662-1c14-4c21-b865-23fc625fe0d0"
      },
      "source": [
        "%sql sqlite:///cyberHotelDatabase.db"
      ],
      "execution_count": null,
      "outputs": [
        {
          "output_type": "execute_result",
          "data": {
            "application/vnd.google.colaboratory.intrinsic+json": {
              "type": "string"
            },
            "text/plain": [
              "'Connected: @cyberHotelDatabase.db'"
            ]
          },
          "metadata": {
            "tags": []
          },
          "execution_count": 3
        }
      ]
    },
    {
      "cell_type": "code",
      "metadata": {
        "colab": {
          "base_uri": "https://localhost:8080/"
        },
        "id": "xdU3hQfyOCNc",
        "outputId": "ac865b71-6b50-498b-819a-64b6040f459e"
      },
      "source": [
        "%%sql  \n",
        "DROP TABLE IF EXISTS Hotel;\n",
        "CREATE TABLE Hotel(hotel_id text primaray key, address text, hotel_name text, owner_name text);"
      ],
      "execution_count": null,
      "outputs": [
        {
          "output_type": "stream",
          "text": [
            " * sqlite:///cyberHotelDatabase.db\n",
            "Done.\n",
            "Done.\n"
          ],
          "name": "stdout"
        },
        {
          "output_type": "execute_result",
          "data": {
            "text/plain": [
              "[]"
            ]
          },
          "metadata": {
            "tags": []
          },
          "execution_count": 5
        }
      ]
    },
    {
      "cell_type": "code",
      "metadata": {
        "colab": {
          "base_uri": "https://localhost:8080/"
        },
        "id": "mZZEWrKuO3yo",
        "outputId": "0a43b64f-e212-40f4-b457-857b4a5b5d63"
      },
      "source": [
        "%%sql  \n",
        "INSERT INTO Hotel VALUES('11111','321 Hotel Street, State College PA','Hotel #1','Tom Brady');\n",
        "INSERT INTO Hotel VALUES('22222','101 Motel Road, Pittsburgh PA','Hotel #2','Wiz Khalifa');\n",
        "INSERT INTO Hotel VALUES('33333','1200 Lodge Lane, Erie PA','Hotel #3','Mike Wazowski');\n",
        "INSERT INTO Hotel VALUES('44444','55 Hotel Way, Seattle WA','Hotel #4','Lebron James');\n",
        "INSERT INTO Hotel VALUES('55555','001 Hotel Highway, Columbus OH','Hotel #4','John Stamos')"
      ],
      "execution_count": null,
      "outputs": [
        {
          "output_type": "stream",
          "text": [
            " * sqlite:///cyberHotelDatabase.db\n",
            "1 rows affected.\n",
            "1 rows affected.\n",
            "1 rows affected.\n",
            "1 rows affected.\n",
            "1 rows affected.\n"
          ],
          "name": "stdout"
        },
        {
          "output_type": "execute_result",
          "data": {
            "text/plain": [
              "[]"
            ]
          },
          "metadata": {
            "tags": []
          },
          "execution_count": 6
        }
      ]
    },
    {
      "cell_type": "code",
      "metadata": {
        "colab": {
          "base_uri": "https://localhost:8080/",
          "height": 174
        },
        "id": "Xi2aARhqRXft",
        "outputId": "fd548765-9c29-4e6a-ec14-172737735f75"
      },
      "source": [
        "%%sql\n",
        "SELECT * FROM Hotel;"
      ],
      "execution_count": null,
      "outputs": [
        {
          "output_type": "stream",
          "text": [
            " * sqlite:///cyberHotelDatabase.db\n",
            "Done.\n"
          ],
          "name": "stdout"
        },
        {
          "output_type": "execute_result",
          "data": {
            "text/html": [
              "<table>\n",
              "    <tr>\n",
              "        <th>hotel_id</th>\n",
              "        <th>address</th>\n",
              "        <th>hotel_name</th>\n",
              "        <th>owner_name</th>\n",
              "    </tr>\n",
              "    <tr>\n",
              "        <td>11111</td>\n",
              "        <td>321 Hotel Street, State College PA</td>\n",
              "        <td>Hotel #1</td>\n",
              "        <td>Tom Brady</td>\n",
              "    </tr>\n",
              "    <tr>\n",
              "        <td>22222</td>\n",
              "        <td>101 Motel Road, Pittsburgh PA</td>\n",
              "        <td>Hotel #2</td>\n",
              "        <td>Wiz Khalifa</td>\n",
              "    </tr>\n",
              "    <tr>\n",
              "        <td>33333</td>\n",
              "        <td>1200 Lodge Lane, Erie PA</td>\n",
              "        <td>Hotel #3</td>\n",
              "        <td>Mike Wazowski</td>\n",
              "    </tr>\n",
              "    <tr>\n",
              "        <td>44444</td>\n",
              "        <td>55 Hotel Way, Seattle WA</td>\n",
              "        <td>Hotel #4</td>\n",
              "        <td>Lebron James</td>\n",
              "    </tr>\n",
              "    <tr>\n",
              "        <td>55555</td>\n",
              "        <td>001 Hotel Highway, Columbus OH</td>\n",
              "        <td>Hotel #4</td>\n",
              "        <td>John Stamos</td>\n",
              "    </tr>\n",
              "</table>"
            ],
            "text/plain": [
              "[('11111', '321 Hotel Street, State College PA', 'Hotel #1', 'Tom Brady'),\n",
              " ('22222', '101 Motel Road, Pittsburgh PA', 'Hotel #2', 'Wiz Khalifa'),\n",
              " ('33333', '1200 Lodge Lane, Erie PA', 'Hotel #3', 'Mike Wazowski'),\n",
              " ('44444', '55 Hotel Way, Seattle WA', 'Hotel #4', 'Lebron James'),\n",
              " ('55555', '001 Hotel Highway, Columbus OH', 'Hotel #4', 'John Stamos')]"
            ]
          },
          "metadata": {
            "tags": []
          },
          "execution_count": 7
        }
      ]
    },
    {
      "cell_type": "code",
      "metadata": {
        "colab": {
          "base_uri": "https://localhost:8080/"
        },
        "id": "Z4w-Efz_SbUD",
        "outputId": "550443a3-c25e-4411-e997-0e3b449c3eb5"
      },
      "source": [
        "%%sql  \n",
        "DROP TABLE IF EXISTS Guest;\n",
        "CREATE TABLE Guest(guest_id text primaray key, hotel_id text, first_name text, last_name text, date_of_birth text, room_number text);"
      ],
      "execution_count": null,
      "outputs": [
        {
          "output_type": "stream",
          "text": [
            " * sqlite:///cyberHotelDatabase.db\n",
            "Done.\n",
            "Done.\n"
          ],
          "name": "stdout"
        },
        {
          "output_type": "execute_result",
          "data": {
            "text/plain": [
              "[]"
            ]
          },
          "metadata": {
            "tags": []
          },
          "execution_count": 8
        }
      ]
    },
    {
      "cell_type": "code",
      "metadata": {
        "colab": {
          "base_uri": "https://localhost:8080/"
        },
        "id": "JTeY9QBkTxoM",
        "outputId": "54fb433f-c0fd-4af0-c633-ca6cd00fe86b"
      },
      "source": [
        "%%sql\n",
        "INSERT INTO Guest VALUES('db321','11111','Don','Roberto','09/13/80','322');\n",
        "INSERT INTO Guest VALUES('jj451','11111','Julio','Jones','02/08/89','114');\n",
        "INSERT INTO Guest VALUES('ss282','22222','Smitty','Smith','06/22/68','110');\n",
        "INSERT INTO Guest VALUES('bs553','11111','Bobby','Shmurda','08/04/94','304');\n",
        "INSERT INTO Guest VALUES('sb420','33333','Sponge','Bob','01/01/91','229');"
      ],
      "execution_count": null,
      "outputs": [
        {
          "output_type": "stream",
          "text": [
            " * sqlite:///cyberHotelDatabase.db\n",
            "1 rows affected.\n",
            "1 rows affected.\n",
            "1 rows affected.\n",
            "1 rows affected.\n",
            "1 rows affected.\n"
          ],
          "name": "stdout"
        },
        {
          "output_type": "execute_result",
          "data": {
            "text/plain": [
              "[]"
            ]
          },
          "metadata": {
            "tags": []
          },
          "execution_count": 9
        }
      ]
    },
    {
      "cell_type": "code",
      "metadata": {
        "colab": {
          "base_uri": "https://localhost:8080/",
          "height": 174
        },
        "id": "MsBEIM2fWZ8J",
        "outputId": "c89918a6-66a3-4b54-b251-fb080fb42957"
      },
      "source": [
        "%%sql\n",
        "SELECT * FROM Guest;"
      ],
      "execution_count": null,
      "outputs": [
        {
          "output_type": "stream",
          "text": [
            " * sqlite:///cyberHotelDatabase.db\n",
            "Done.\n"
          ],
          "name": "stdout"
        },
        {
          "output_type": "execute_result",
          "data": {
            "text/html": [
              "<table>\n",
              "    <tr>\n",
              "        <th>guest_id</th>\n",
              "        <th>hotel_id</th>\n",
              "        <th>first_name</th>\n",
              "        <th>last_name</th>\n",
              "        <th>date_of_birth</th>\n",
              "        <th>room_number</th>\n",
              "    </tr>\n",
              "    <tr>\n",
              "        <td>db321</td>\n",
              "        <td>11111</td>\n",
              "        <td>Don</td>\n",
              "        <td>Roberto</td>\n",
              "        <td>09/13/80</td>\n",
              "        <td>322</td>\n",
              "    </tr>\n",
              "    <tr>\n",
              "        <td>jj451</td>\n",
              "        <td>11111</td>\n",
              "        <td>Julio</td>\n",
              "        <td>Jones</td>\n",
              "        <td>02/08/89</td>\n",
              "        <td>114</td>\n",
              "    </tr>\n",
              "    <tr>\n",
              "        <td>ss282</td>\n",
              "        <td>22222</td>\n",
              "        <td>Smitty</td>\n",
              "        <td>Smith</td>\n",
              "        <td>06/22/68</td>\n",
              "        <td>110</td>\n",
              "    </tr>\n",
              "    <tr>\n",
              "        <td>bs553</td>\n",
              "        <td>11111</td>\n",
              "        <td>Bobby</td>\n",
              "        <td>Shmurda</td>\n",
              "        <td>08/04/94</td>\n",
              "        <td>304</td>\n",
              "    </tr>\n",
              "    <tr>\n",
              "        <td>sb420</td>\n",
              "        <td>33333</td>\n",
              "        <td>Sponge</td>\n",
              "        <td>Bob</td>\n",
              "        <td>01/01/91</td>\n",
              "        <td>229</td>\n",
              "    </tr>\n",
              "</table>"
            ],
            "text/plain": [
              "[('db321', '11111', 'Don', 'Roberto', '09/13/80', '322'),\n",
              " ('jj451', '11111', 'Julio', 'Jones', '02/08/89', '114'),\n",
              " ('ss282', '22222', 'Smitty', 'Smith', '06/22/68', '110'),\n",
              " ('bs553', '11111', 'Bobby', 'Shmurda', '08/04/94', '304'),\n",
              " ('sb420', '33333', 'Sponge', 'Bob', '01/01/91', '229')]"
            ]
          },
          "metadata": {
            "tags": []
          },
          "execution_count": 10
        }
      ]
    },
    {
      "cell_type": "code",
      "metadata": {
        "colab": {
          "base_uri": "https://localhost:8080/"
        },
        "id": "PwI4zOtNWzDm",
        "outputId": "3ddc843c-c25f-46a8-9068-554ecc6f01ec"
      },
      "source": [
        "%%sql  \n",
        "DROP TABLE IF EXISTS Room;\n",
        "CREATE TABLE Room(room_number text primaray key, hotel_id text, floor_number text, bed_size text);"
      ],
      "execution_count": null,
      "outputs": [
        {
          "output_type": "stream",
          "text": [
            " * sqlite:///cyberHotelDatabase.db\n",
            "Done.\n",
            "Done.\n"
          ],
          "name": "stdout"
        },
        {
          "output_type": "execute_result",
          "data": {
            "text/plain": [
              "[]"
            ]
          },
          "metadata": {
            "tags": []
          },
          "execution_count": 11
        }
      ]
    },
    {
      "cell_type": "code",
      "metadata": {
        "colab": {
          "base_uri": "https://localhost:8080/"
        },
        "id": "Ek6j8GOFXBP8",
        "outputId": "7f1d27f2-4f6f-44d0-80f5-dd25051d2fec"
      },
      "source": [
        "%%sql\n",
        "INSERT INTO Room VALUES('322','11111','3','Queen');\n",
        "INSERT INTO Room VALUES('114','11111','1','King');\n",
        "INSERT INTO Room VALUES('110','22222','1','Twin');\n",
        "INSERT INTO Room VALUES('304','11111','1','King');\n",
        "INSERT INTO Room VALUES('229','33333','2','Queen');"
      ],
      "execution_count": null,
      "outputs": [
        {
          "output_type": "stream",
          "text": [
            " * sqlite:///cyberHotelDatabase.db\n",
            "1 rows affected.\n",
            "1 rows affected.\n",
            "1 rows affected.\n",
            "1 rows affected.\n",
            "1 rows affected.\n"
          ],
          "name": "stdout"
        },
        {
          "output_type": "execute_result",
          "data": {
            "text/plain": [
              "[]"
            ]
          },
          "metadata": {
            "tags": []
          },
          "execution_count": 12
        }
      ]
    },
    {
      "cell_type": "code",
      "metadata": {
        "colab": {
          "base_uri": "https://localhost:8080/",
          "height": 174
        },
        "id": "-R_c7thdYbGZ",
        "outputId": "1811fad1-fd31-44b1-ac52-9d4a347da73c"
      },
      "source": [
        "%%sql\n",
        "SELECT * FROM Room;"
      ],
      "execution_count": null,
      "outputs": [
        {
          "output_type": "stream",
          "text": [
            " * sqlite:///cyberHotelDatabase.db\n",
            "Done.\n"
          ],
          "name": "stdout"
        },
        {
          "output_type": "execute_result",
          "data": {
            "text/html": [
              "<table>\n",
              "    <tr>\n",
              "        <th>room_number</th>\n",
              "        <th>hotel_id</th>\n",
              "        <th>floor_number</th>\n",
              "        <th>bed_size</th>\n",
              "    </tr>\n",
              "    <tr>\n",
              "        <td>322</td>\n",
              "        <td>11111</td>\n",
              "        <td>3</td>\n",
              "        <td>Queen</td>\n",
              "    </tr>\n",
              "    <tr>\n",
              "        <td>114</td>\n",
              "        <td>11111</td>\n",
              "        <td>1</td>\n",
              "        <td>King</td>\n",
              "    </tr>\n",
              "    <tr>\n",
              "        <td>110</td>\n",
              "        <td>22222</td>\n",
              "        <td>1</td>\n",
              "        <td>Twin</td>\n",
              "    </tr>\n",
              "    <tr>\n",
              "        <td>304</td>\n",
              "        <td>11111</td>\n",
              "        <td>1</td>\n",
              "        <td>King</td>\n",
              "    </tr>\n",
              "    <tr>\n",
              "        <td>229</td>\n",
              "        <td>33333</td>\n",
              "        <td>2</td>\n",
              "        <td>Queen</td>\n",
              "    </tr>\n",
              "</table>"
            ],
            "text/plain": [
              "[('322', '11111', '3', 'Queen'),\n",
              " ('114', '11111', '1', 'King'),\n",
              " ('110', '22222', '1', 'Twin'),\n",
              " ('304', '11111', '1', 'King'),\n",
              " ('229', '33333', '2', 'Queen')]"
            ]
          },
          "metadata": {
            "tags": []
          },
          "execution_count": 13
        }
      ]
    },
    {
      "cell_type": "code",
      "metadata": {
        "colab": {
          "base_uri": "https://localhost:8080/"
        },
        "id": "wrc-inRMYm3D",
        "outputId": "6d757d9b-11f4-4639-f6fb-7c63d1de0f54"
      },
      "source": [
        "%%sql\n",
        "DROP TABLE IF EXISTS Transactions;\n",
        "CREATE TABLE Transactions(transaction_id text primary key, guest_id text, rental_id text, card_number text, date text, transaction_amount real);\n"
      ],
      "execution_count": null,
      "outputs": [
        {
          "output_type": "stream",
          "text": [
            " * sqlite:///cyberHotelDatabase.db\n",
            "Done.\n",
            "Done.\n"
          ],
          "name": "stdout"
        },
        {
          "output_type": "execute_result",
          "data": {
            "text/plain": [
              "[]"
            ]
          },
          "metadata": {
            "tags": []
          },
          "execution_count": 14
        }
      ]
    },
    {
      "cell_type": "code",
      "metadata": {
        "colab": {
          "base_uri": "https://localhost:8080/"
        },
        "id": "RUqbWsvmZI_B",
        "outputId": "4a46d7f0-71f5-44cc-f6f2-b405fb4c9f67"
      },
      "source": [
        "%%sql\n",
        "INSERT INTO Transactions VALUES('00001','jj451','02001','1111-1111-1111-1112','11/29/19',220.91);\n",
        "INSERT INTO Transactions VALUES('00002','jj451','04131','1111-1111-1111-1112','11/30/19',185.42);\n",
        "INSERT INTO Transactions VALUES('00003','jj451','06731','1111-1111-1111-1112','11/30/19',202.80);\n",
        "INSERT INTO Transactions VALUES('00004','sb420','09831','1111-2222-3333-4444','03/22/20',197.03);\n",
        "INSERT INTO Transactions VALUES('00005','ss828','01022','9999-8888-7777-6666','04/19/20',340.64);"
      ],
      "execution_count": null,
      "outputs": [
        {
          "output_type": "stream",
          "text": [
            " * sqlite:///cyberHotelDatabase.db\n",
            "1 rows affected.\n",
            "1 rows affected.\n",
            "1 rows affected.\n",
            "1 rows affected.\n",
            "1 rows affected.\n"
          ],
          "name": "stdout"
        },
        {
          "output_type": "execute_result",
          "data": {
            "text/plain": [
              "[]"
            ]
          },
          "metadata": {
            "tags": []
          },
          "execution_count": 15
        }
      ]
    },
    {
      "cell_type": "code",
      "metadata": {
        "colab": {
          "base_uri": "https://localhost:8080/",
          "height": 174
        },
        "id": "iRRVJ83scKb2",
        "outputId": "49747694-490b-43cd-ef37-a581dace476a"
      },
      "source": [
        "%%sql\n",
        "SELECT * FROM Transactions;"
      ],
      "execution_count": null,
      "outputs": [
        {
          "output_type": "stream",
          "text": [
            " * sqlite:///cyberHotelDatabase.db\n",
            "Done.\n"
          ],
          "name": "stdout"
        },
        {
          "output_type": "execute_result",
          "data": {
            "text/html": [
              "<table>\n",
              "    <tr>\n",
              "        <th>transaction_id</th>\n",
              "        <th>guest_id</th>\n",
              "        <th>rental_id</th>\n",
              "        <th>card_number</th>\n",
              "        <th>date</th>\n",
              "        <th>transaction_amount</th>\n",
              "    </tr>\n",
              "    <tr>\n",
              "        <td>00001</td>\n",
              "        <td>jj451</td>\n",
              "        <td>02001</td>\n",
              "        <td>1111-1111-1111-1112</td>\n",
              "        <td>11/29/19</td>\n",
              "        <td>220.91</td>\n",
              "    </tr>\n",
              "    <tr>\n",
              "        <td>00002</td>\n",
              "        <td>jj451</td>\n",
              "        <td>04131</td>\n",
              "        <td>1111-1111-1111-1112</td>\n",
              "        <td>11/30/19</td>\n",
              "        <td>185.42</td>\n",
              "    </tr>\n",
              "    <tr>\n",
              "        <td>00003</td>\n",
              "        <td>jj451</td>\n",
              "        <td>06731</td>\n",
              "        <td>1111-1111-1111-1112</td>\n",
              "        <td>11/30/19</td>\n",
              "        <td>202.8</td>\n",
              "    </tr>\n",
              "    <tr>\n",
              "        <td>00004</td>\n",
              "        <td>sb420</td>\n",
              "        <td>09831</td>\n",
              "        <td>1111-2222-3333-4444</td>\n",
              "        <td>03/22/20</td>\n",
              "        <td>197.03</td>\n",
              "    </tr>\n",
              "    <tr>\n",
              "        <td>00005</td>\n",
              "        <td>ss828</td>\n",
              "        <td>01022</td>\n",
              "        <td>9999-8888-7777-6666</td>\n",
              "        <td>04/19/20</td>\n",
              "        <td>340.64</td>\n",
              "    </tr>\n",
              "</table>"
            ],
            "text/plain": [
              "[('00001', 'jj451', '02001', '1111-1111-1111-1112', '11/29/19', 220.91),\n",
              " ('00002', 'jj451', '04131', '1111-1111-1111-1112', '11/30/19', 185.42),\n",
              " ('00003', 'jj451', '06731', '1111-1111-1111-1112', '11/30/19', 202.8),\n",
              " ('00004', 'sb420', '09831', '1111-2222-3333-4444', '03/22/20', 197.03),\n",
              " ('00005', 'ss828', '01022', '9999-8888-7777-6666', '04/19/20', 340.64)]"
            ]
          },
          "metadata": {
            "tags": []
          },
          "execution_count": 16
        }
      ]
    },
    {
      "cell_type": "code",
      "metadata": {
        "colab": {
          "base_uri": "https://localhost:8080/"
        },
        "id": "9RFQNaLBdSPJ",
        "outputId": "b3003e01-ab86-43d1-9c11-1e1482c0e6c9"
      },
      "source": [
        "%%sql\n",
        "DROP TABLE IF EXISTS Rentals;\n",
        "CREATE TABLE Rentals(rental_id text primary key, guest_id text, rental_type text, day_limit text);\n"
      ],
      "execution_count": null,
      "outputs": [
        {
          "output_type": "stream",
          "text": [
            " * sqlite:///cyberHotelDatabase.db\n",
            "Done.\n",
            "Done.\n"
          ],
          "name": "stdout"
        },
        {
          "output_type": "execute_result",
          "data": {
            "text/plain": [
              "[]"
            ]
          },
          "metadata": {
            "tags": []
          },
          "execution_count": 17
        }
      ]
    },
    {
      "cell_type": "code",
      "metadata": {
        "colab": {
          "base_uri": "https://localhost:8080/"
        },
        "id": "kVoUuRqVeBQO",
        "outputId": "ca1ac47a-8bee-436d-a459-ae4413aca8d7"
      },
      "source": [
        "%%sql\n",
        "INSERT INTO Rentals VALUES('02001','jj451','PS5','4');\n",
        "INSERT INTO Rentals VALUES('04131','jj451','X Box','3');\n",
        "INSERT INTO Rentals VALUES('06731','jj451','iPad Pro','2');\n",
        "INSERT INTO Rentals VALUES('09831','sb420','Smart Toaster','1');\n",
        "INSERT INTO Rentals VALUES('01022','ss828','Mac Book','2');"
      ],
      "execution_count": null,
      "outputs": [
        {
          "output_type": "stream",
          "text": [
            " * sqlite:///cyberHotelDatabase.db\n",
            "1 rows affected.\n",
            "1 rows affected.\n",
            "1 rows affected.\n",
            "1 rows affected.\n",
            "1 rows affected.\n"
          ],
          "name": "stdout"
        },
        {
          "output_type": "execute_result",
          "data": {
            "text/plain": [
              "[]"
            ]
          },
          "metadata": {
            "tags": []
          },
          "execution_count": 18
        }
      ]
    },
    {
      "cell_type": "code",
      "metadata": {
        "colab": {
          "base_uri": "https://localhost:8080/",
          "height": 174
        },
        "id": "9XwwlnzefQto",
        "outputId": "efe8f47c-06dc-45f0-f222-996d7d2792be"
      },
      "source": [
        "%%sql\n",
        "SELECT * FROM Rentals;"
      ],
      "execution_count": null,
      "outputs": [
        {
          "output_type": "stream",
          "text": [
            " * sqlite:///cyberHotelDatabase.db\n",
            "Done.\n"
          ],
          "name": "stdout"
        },
        {
          "output_type": "execute_result",
          "data": {
            "text/html": [
              "<table>\n",
              "    <tr>\n",
              "        <th>rental_id</th>\n",
              "        <th>guest_id</th>\n",
              "        <th>rental_type</th>\n",
              "        <th>day_limit</th>\n",
              "    </tr>\n",
              "    <tr>\n",
              "        <td>02001</td>\n",
              "        <td>jj451</td>\n",
              "        <td>PS5</td>\n",
              "        <td>4</td>\n",
              "    </tr>\n",
              "    <tr>\n",
              "        <td>04131</td>\n",
              "        <td>jj451</td>\n",
              "        <td>X Box</td>\n",
              "        <td>3</td>\n",
              "    </tr>\n",
              "    <tr>\n",
              "        <td>06731</td>\n",
              "        <td>jj451</td>\n",
              "        <td>iPad Pro</td>\n",
              "        <td>2</td>\n",
              "    </tr>\n",
              "    <tr>\n",
              "        <td>09831</td>\n",
              "        <td>sb420</td>\n",
              "        <td>Smart Toaster</td>\n",
              "        <td>1</td>\n",
              "    </tr>\n",
              "    <tr>\n",
              "        <td>01022</td>\n",
              "        <td>ss828</td>\n",
              "        <td>Mac Book</td>\n",
              "        <td>2</td>\n",
              "    </tr>\n",
              "</table>"
            ],
            "text/plain": [
              "[('02001', 'jj451', 'PS5', '4'),\n",
              " ('04131', 'jj451', 'X Box', '3'),\n",
              " ('06731', 'jj451', 'iPad Pro', '2'),\n",
              " ('09831', 'sb420', 'Smart Toaster', '1'),\n",
              " ('01022', 'ss828', 'Mac Book', '2')]"
            ]
          },
          "metadata": {
            "tags": []
          },
          "execution_count": 19
        }
      ]
    },
    {
      "cell_type": "code",
      "metadata": {
        "colab": {
          "base_uri": "https://localhost:8080/"
        },
        "id": "ca1l77OKfcX-",
        "outputId": "e585c6bc-ee65-4c50-ab5d-72ca905c6bf0"
      },
      "source": [
        "%%sql\n",
        "DROP TABLE IF EXISTS Employee;\n",
        "CREATE TABLE Employee(employee_id text, hotel_id text, first_name text, last_name text, position text);"
      ],
      "execution_count": null,
      "outputs": [
        {
          "output_type": "stream",
          "text": [
            " * sqlite:///cyberHotelDatabase.db\n",
            "Done.\n",
            "Done.\n"
          ],
          "name": "stdout"
        },
        {
          "output_type": "execute_result",
          "data": {
            "text/plain": [
              "[]"
            ]
          },
          "metadata": {
            "tags": []
          },
          "execution_count": 20
        }
      ]
    },
    {
      "cell_type": "code",
      "metadata": {
        "colab": {
          "base_uri": "https://localhost:8080/"
        },
        "id": "HG1hghEcgA0P",
        "outputId": "0b34440a-e797-47a5-ec69-b4c97ac89fc9"
      },
      "source": [
        "%%sql\n",
        "INSERT INTO Employee VALUES('abc100','33333','JJ','Watt','Maid');\n",
        "INSERT INTO Employee VALUES('abc200','33333','Lil','Wayne','Butler');\n",
        "INSERT INTO Employee VALUES('abc300','11111','Captain','Crunch','Maid');\n",
        "INSERT INTO Employee VALUES('abc400','22222','Abe','Lincoln','Butler');\n",
        "INSERT INTO Employee VALUES('abc500','33333','Doctor','Fauci','Maid');"
      ],
      "execution_count": null,
      "outputs": [
        {
          "output_type": "stream",
          "text": [
            " * sqlite:///cyberHotelDatabase.db\n",
            "1 rows affected.\n",
            "1 rows affected.\n",
            "1 rows affected.\n",
            "1 rows affected.\n",
            "1 rows affected.\n"
          ],
          "name": "stdout"
        },
        {
          "output_type": "execute_result",
          "data": {
            "text/plain": [
              "[]"
            ]
          },
          "metadata": {
            "tags": []
          },
          "execution_count": 21
        }
      ]
    },
    {
      "cell_type": "code",
      "metadata": {
        "colab": {
          "base_uri": "https://localhost:8080/",
          "height": 174
        },
        "id": "svKHX5u5hp-E",
        "outputId": "57a66a91-59e8-488c-d90d-f3d4352eb110"
      },
      "source": [
        "%%sql\n",
        "SELECT * FROM Employee;"
      ],
      "execution_count": null,
      "outputs": [
        {
          "output_type": "stream",
          "text": [
            " * sqlite:///cyberHotelDatabase.db\n",
            "Done.\n"
          ],
          "name": "stdout"
        },
        {
          "output_type": "execute_result",
          "data": {
            "text/html": [
              "<table>\n",
              "    <tr>\n",
              "        <th>employee_id</th>\n",
              "        <th>hotel_id</th>\n",
              "        <th>first_name</th>\n",
              "        <th>last_name</th>\n",
              "        <th>position</th>\n",
              "    </tr>\n",
              "    <tr>\n",
              "        <td>abc100</td>\n",
              "        <td>33333</td>\n",
              "        <td>JJ</td>\n",
              "        <td>Watt</td>\n",
              "        <td>Maid</td>\n",
              "    </tr>\n",
              "    <tr>\n",
              "        <td>abc200</td>\n",
              "        <td>33333</td>\n",
              "        <td>Lil</td>\n",
              "        <td>Wayne</td>\n",
              "        <td>Butler</td>\n",
              "    </tr>\n",
              "    <tr>\n",
              "        <td>abc300</td>\n",
              "        <td>11111</td>\n",
              "        <td>Captain</td>\n",
              "        <td>Crunch</td>\n",
              "        <td>Maid</td>\n",
              "    </tr>\n",
              "    <tr>\n",
              "        <td>abc400</td>\n",
              "        <td>22222</td>\n",
              "        <td>Abe</td>\n",
              "        <td>Lincoln</td>\n",
              "        <td>Butler</td>\n",
              "    </tr>\n",
              "    <tr>\n",
              "        <td>abc500</td>\n",
              "        <td>33333</td>\n",
              "        <td>Doctor</td>\n",
              "        <td>Fauci</td>\n",
              "        <td>Maid</td>\n",
              "    </tr>\n",
              "</table>"
            ],
            "text/plain": [
              "[('abc100', '33333', 'JJ', 'Watt', 'Maid'),\n",
              " ('abc200', '33333', 'Lil', 'Wayne', 'Butler'),\n",
              " ('abc300', '11111', 'Captain', 'Crunch', 'Maid'),\n",
              " ('abc400', '22222', 'Abe', 'Lincoln', 'Butler'),\n",
              " ('abc500', '33333', 'Doctor', 'Fauci', 'Maid')]"
            ]
          },
          "metadata": {
            "tags": []
          },
          "execution_count": 22
        }
      ]
    },
    {
      "cell_type": "markdown",
      "metadata": {
        "id": "YGOruu1Li-nf"
      },
      "source": [
        "## **How many maids does Hotel #3 have employed currently?**"
      ]
    },
    {
      "cell_type": "code",
      "metadata": {
        "colab": {
          "base_uri": "https://localhost:8080/",
          "height": 92
        },
        "id": "kSvav-XkjgcL",
        "outputId": "dd189a13-9f24-4022-d450-3a4e119d0f15"
      },
      "source": [
        "%%sql\n",
        "SELECT COUNT(position) from Employee WHERE position LIKE '%Maid%' AND hotel_id LIKE '%33333%';"
      ],
      "execution_count": null,
      "outputs": [
        {
          "output_type": "stream",
          "text": [
            " * sqlite:///cyberHotelDatabase.db\n",
            "Done.\n"
          ],
          "name": "stdout"
        },
        {
          "output_type": "execute_result",
          "data": {
            "text/html": [
              "<table>\n",
              "    <tr>\n",
              "        <th>COUNT(position)</th>\n",
              "    </tr>\n",
              "    <tr>\n",
              "        <td>2</td>\n",
              "    </tr>\n",
              "</table>"
            ],
            "text/plain": [
              "[(2,)]"
            ]
          },
          "metadata": {
            "tags": []
          },
          "execution_count": 23
        }
      ]
    },
    {
      "cell_type": "markdown",
      "metadata": {
        "id": "UYQW4cZTjVkZ"
      },
      "source": [
        "## **What devices has Julio Jones rented?**"
      ]
    },
    {
      "cell_type": "code",
      "metadata": {
        "colab": {
          "base_uri": "https://localhost:8080/",
          "height": 134
        },
        "id": "GMXwmU3tjhL-",
        "outputId": "26d37a3d-a4a2-462a-d26c-fa73d664b8f0"
      },
      "source": [
        "%%sql\n",
        "SELECT DISTINCT(rental_type) from Rentals WHERE guest_id LIKE '%jj451';"
      ],
      "execution_count": null,
      "outputs": [
        {
          "output_type": "stream",
          "text": [
            " * sqlite:///cyberHotelDatabase.db\n",
            "Done.\n"
          ],
          "name": "stdout"
        },
        {
          "output_type": "execute_result",
          "data": {
            "text/html": [
              "<table>\n",
              "    <tr>\n",
              "        <th>rental_type</th>\n",
              "    </tr>\n",
              "    <tr>\n",
              "        <td>PS5</td>\n",
              "    </tr>\n",
              "    <tr>\n",
              "        <td>X Box</td>\n",
              "    </tr>\n",
              "    <tr>\n",
              "        <td>iPad Pro</td>\n",
              "    </tr>\n",
              "</table>"
            ],
            "text/plain": [
              "[('PS5',), ('X Box',), ('iPad Pro',)]"
            ]
          },
          "metadata": {
            "tags": []
          },
          "execution_count": 24
        }
      ]
    },
    {
      "cell_type": "markdown",
      "metadata": {
        "id": "_lMASzwdjhtC"
      },
      "source": [
        "## **What is the total revenue for all transactions?**"
      ]
    },
    {
      "cell_type": "code",
      "metadata": {
        "colab": {
          "base_uri": "https://localhost:8080/",
          "height": 92
        },
        "id": "EgXVjKQcjxmx",
        "outputId": "98dd51dc-5bf5-4125-bbf0-2765d10c90ad"
      },
      "source": [
        "%%sql\n",
        "SELECT SUM(transaction_amount) from Transactions;"
      ],
      "execution_count": null,
      "outputs": [
        {
          "output_type": "stream",
          "text": [
            " * sqlite:///cyberHotelDatabase.db\n",
            "Done.\n"
          ],
          "name": "stdout"
        },
        {
          "output_type": "execute_result",
          "data": {
            "text/html": [
              "<table>\n",
              "    <tr>\n",
              "        <th>SUM(transaction_amount)</th>\n",
              "    </tr>\n",
              "    <tr>\n",
              "        <td>1146.8</td>\n",
              "    </tr>\n",
              "</table>"
            ],
            "text/plain": [
              "[(1146.8,)]"
            ]
          },
          "metadata": {
            "tags": []
          },
          "execution_count": 25
        }
      ]
    },
    {
      "cell_type": "markdown",
      "metadata": {
        "id": "5HbP4UqJWyW8"
      },
      "source": [
        "# **How much revenue in rentals came in during November?**"
      ]
    },
    {
      "cell_type": "code",
      "metadata": {
        "colab": {
          "base_uri": "https://localhost:8080/",
          "height": 92
        },
        "id": "aoMJwF7fWzTm",
        "outputId": "ed2d36a7-f74c-403a-9c13-e6f75cfeeb09"
      },
      "source": [
        "%%sql\n",
        "SELECT SUM(transaction_amount) FROM Transactions WHERE date LIKE \"11%\";"
      ],
      "execution_count": null,
      "outputs": [
        {
          "output_type": "stream",
          "text": [
            " * sqlite:///cyberHotelDatabase.db\n",
            "Done.\n"
          ],
          "name": "stdout"
        },
        {
          "output_type": "execute_result",
          "data": {
            "text/html": [
              "<table>\n",
              "    <tr>\n",
              "        <th>SUM(transaction_amount)</th>\n",
              "    </tr>\n",
              "    <tr>\n",
              "        <td>609.13</td>\n",
              "    </tr>\n",
              "</table>"
            ],
            "text/plain": [
              "[(609.13,)]"
            ]
          },
          "metadata": {
            "tags": []
          },
          "execution_count": 26
        }
      ]
    },
    {
      "cell_type": "markdown",
      "metadata": {
        "id": "b_PoTsAin759"
      },
      "source": [
        "# **Why are these questions important?** \n",
        "\n",
        "We believe that these questions are relevant because they can potentially relate to real world scenarios in the hotel business. For the first question it is important for a hotel business to keep track of how many employees they have, what the employees are doing, and where they work at. For the second question, this question is relevant because a hotel worker such as a cashier at the front desk may have to pull up information in realtime for a specific guest. The last question is relevant because it is important that hotels keep track of their revenue and earnings, after all it is a business and the purpose of a business is to make money."
      ]
    }
  ]
}
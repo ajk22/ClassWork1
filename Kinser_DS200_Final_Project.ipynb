{
  "nbformat": 4,
  "nbformat_minor": 0,
  "metadata": {
    "colab": {
      "name": "Kinser-DS200-Final Project.ipynb",
      "provenance": [],
      "toc_visible": true,
      "authorship_tag": "ABX9TyNPAJgd5f47LS+oPeBGCYNz",
      "include_colab_link": true
    },
    "kernelspec": {
      "name": "python3",
      "display_name": "Python 3"
    },
    "language_info": {
      "name": "python"
    }
  },
  "cells": [
    {
      "cell_type": "markdown",
      "metadata": {
        "id": "view-in-github",
        "colab_type": "text"
      },
      "source": [
        "<a href=\"https://colab.research.google.com/github/ajk22/ClassWork1/blob/master/Kinser_DS200_Final_Project.ipynb\" target=\"_parent\"><img src=\"https://colab.research.google.com/assets/colab-badge.svg\" alt=\"Open In Colab\"/></a>"
      ]
    },
    {
      "cell_type": "markdown",
      "metadata": {
        "id": "kgSclQms6X1S"
      },
      "source": [
        "## DS 200 Final Project\n",
        "## Alex Kinser\n",
        "### **Dataset Used:**\n",
        "https://www.kaggle.com/danield2255/data-on-songs-from-billboard-19992019"
      ]
    },
    {
      "cell_type": "markdown",
      "metadata": {
        "id": "uppaI9r0XABG"
      },
      "source": [
        "**Dataset Description**\n",
        "\n",
        "This dataset \"artistDf.csv\" was taken from Kaggle, it is a dataset containing all of the artists that have made appearances on the billboard top 100 list in the past 20 years from the years 1999 to 2019. This dataset also only contains artists who have released atleast 3 albums and have released their first album no later than 2012.\n"
      ]
    },
    {
      "cell_type": "code",
      "metadata": {
        "colab": {
          "base_uri": "https://localhost:8080/"
        },
        "id": "6_Zq3XYQ61o0",
        "outputId": "e332c6c8-e516-42f1-f335-4493c86ac162"
      },
      "source": [
        "from datascience import *\n",
        "import matplotlib\n",
        "matplotlib.use('Agg', warn=False)\n",
        "%matplotlib inline\n",
        "import matplotlib.pyplot as plots\n",
        "plots.style.use('fivethirtyeight')\n",
        "import numpy as np"
      ],
      "execution_count": null,
      "outputs": [
        {
          "output_type": "stream",
          "text": [
            "/usr/local/lib/python3.7/dist-packages/datascience/tables.py:17: MatplotlibDeprecationWarning: The 'warn' parameter of use() is deprecated since Matplotlib 3.1 and will be removed in 3.3.  If any parameter follows 'warn', they should be pass as keyword, not positionally.\n",
            "  matplotlib.use('agg', warn=False)\n",
            "/usr/local/lib/python3.7/dist-packages/datascience/util.py:10: MatplotlibDeprecationWarning: The 'warn' parameter of use() is deprecated since Matplotlib 3.1 and will be removed in 3.3.  If any parameter follows 'warn', they should be pass as keyword, not positionally.\n",
            "  matplotlib.use('agg', warn=False)\n",
            "/usr/local/lib/python3.7/dist-packages/ipykernel_launcher.py:3: MatplotlibDeprecationWarning: The 'warn' parameter of use() is deprecated since Matplotlib 3.1 and will be removed in 3.3.  If any parameter follows 'warn', they should be pass as keyword, not positionally.\n",
            "  This is separate from the ipykernel package so we can avoid doing imports until\n"
          ],
          "name": "stderr"
        }
      ]
    },
    {
      "cell_type": "code",
      "metadata": {
        "colab": {
          "base_uri": "https://localhost:8080/"
        },
        "id": "t3sTP2vo7KBq",
        "outputId": "80146816-612c-4dff-e877-f24851b83689"
      },
      "source": [
        "from google.colab import drive\n",
        "drive.mount('/content/drive')"
      ],
      "execution_count": null,
      "outputs": [
        {
          "output_type": "stream",
          "text": [
            "Drive already mounted at /content/drive; to attempt to forcibly remount, call drive.mount(\"/content/drive\", force_remount=True).\n"
          ],
          "name": "stdout"
        }
      ]
    },
    {
      "cell_type": "code",
      "metadata": {
        "colab": {
          "resources": {
            "http://localhost:8080/nbextensions/google.colab/files.js": {
              "data": "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",
              "ok": true,
              "headers": [
                [
                  "content-type",
                  "application/javascript"
                ]
              ],
              "status": 200,
              "status_text": "OK"
            }
          },
          "base_uri": "https://localhost:8080/",
          "height": 72
        },
        "id": "_BbzfdeS7g-R",
        "outputId": "7f739e91-5cc6-431f-9b92-2be5fbfe029e"
      },
      "source": [
        "from google.colab import files\n",
        "uploaded = files.upload()"
      ],
      "execution_count": null,
      "outputs": [
        {
          "output_type": "display_data",
          "data": {
            "text/html": [
              "\n",
              "     <input type=\"file\" id=\"files-89c69b2a-dfcb-4465-8ee3-937afd637a57\" name=\"files[]\" multiple disabled\n",
              "        style=\"border:none\" />\n",
              "     <output id=\"result-89c69b2a-dfcb-4465-8ee3-937afd637a57\">\n",
              "      Upload widget is only available when the cell has been executed in the\n",
              "      current browser session. Please rerun this cell to enable.\n",
              "      </output>\n",
              "      <script src=\"/nbextensions/google.colab/files.js\"></script> "
            ],
            "text/plain": [
              "<IPython.core.display.HTML object>"
            ]
          },
          "metadata": {
            "tags": []
          }
        },
        {
          "output_type": "stream",
          "text": [
            "Saving artistDf.csv to artistDf (1).csv\n"
          ],
          "name": "stdout"
        }
      ]
    },
    {
      "cell_type": "markdown",
      "metadata": {
        "id": "LeomBWMV77pB"
      },
      "source": [
        "## **Questions**\n",
        "\n",
        "1. What percentage of billboard artists in the past 20 years belong to a musical group?\n",
        "\n",
        "2. What is the average number of albums released by billboard artists in the past 20 years?"
      ]
    },
    {
      "cell_type": "code",
      "metadata": {
        "id": "bCvT5Jzk8tF9"
      },
      "source": [
        "#Question 1"
      ],
      "execution_count": null,
      "outputs": []
    },
    {
      "cell_type": "code",
      "metadata": {
        "colab": {
          "base_uri": "https://localhost:8080/",
          "height": 392
        },
        "id": "pipV4s9M8u6S",
        "outputId": "eb202da4-6bbb-4c1f-9dfe-8abef32df152"
      },
      "source": [
        "artists = Table.read_table(\"/content/artistDf.csv\")\n",
        "artists.show(10)"
      ],
      "execution_count": null,
      "outputs": [
        {
          "output_type": "display_data",
          "data": {
            "text/html": [
              "<table border=\"1\" class=\"dataframe\">\n",
              "    <thead>\n",
              "        <tr>\n",
              "            <th>X</th> <th>Artist</th> <th>Followers</th> <th>Genres</th> <th>NumAlbums</th> <th>YearFirstAlbum</th> <th>Gender</th> <th>Group.Solo</th>\n",
              "        </tr>\n",
              "    </thead>\n",
              "    <tbody>\n",
              "        <tr>\n",
              "            <td>0   </td> <td>Ed Sheeran         </td> <td>52698756 </td> <td>pop,uk pop                                                  </td> <td>8        </td> <td>2011          </td> <td>M     </td> <td>Solo      </td>\n",
              "        </tr>\n",
              "        <tr>\n",
              "            <td>1   </td> <td>Justin Bieber      </td> <td>30711450 </td> <td>canadian pop,dance pop,pop,post-teen pop                    </td> <td>10       </td> <td>2009          </td> <td>M     </td> <td>Solo      </td>\n",
              "        </tr>\n",
              "        <tr>\n",
              "            <td>2   </td> <td>Jonas Brothers     </td> <td>3069527  </td> <td>boy band,dance pop,pop,post-teen pop                        </td> <td>10       </td> <td>2006          </td> <td>M     </td> <td>Group     </td>\n",
              "        </tr>\n",
              "        <tr>\n",
              "            <td>3   </td> <td>Drake              </td> <td>41420478 </td> <td>canadian hip hop,canadian pop,hip hop,pop rap,rap,toront ...</td> <td>11       </td> <td>2010          </td> <td>M     </td> <td>Solo      </td>\n",
              "        </tr>\n",
              "        <tr>\n",
              "            <td>4   </td> <td>Chris Brown        </td> <td>9676862  </td> <td>dance pop,pop,pop rap,r&b,rap                               </td> <td>6        </td> <td>2005          </td> <td>M     </td> <td>Solo      </td>\n",
              "        </tr>\n",
              "        <tr>\n",
              "            <td>5   </td> <td>Taylor Swift       </td> <td>23709128 </td> <td>dance pop,pop,post-teen pop                                 </td> <td>10       </td> <td>2006          </td> <td>F     </td> <td>Solo      </td>\n",
              "        </tr>\n",
              "        <tr>\n",
              "            <td>6   </td> <td>Blake Shelton      </td> <td>4511508  </td> <td>contemporary country,country,country road                   </td> <td>12       </td> <td>2001          </td> <td>M     </td> <td>Solo      </td>\n",
              "        </tr>\n",
              "        <tr>\n",
              "            <td>7   </td> <td>Nicki Minaj        </td> <td>16331335 </td> <td>dance pop,hip pop,pop,pop rap,post-teen pop,rap             </td> <td>10       </td> <td>2010          </td> <td>F     </td> <td>Solo      </td>\n",
              "        </tr>\n",
              "        <tr>\n",
              "            <td>8   </td> <td>Panic! At The Disco</td> <td>8129075  </td> <td>baroque pop,emo,modern rock,pop punk                        </td> <td>8        </td> <td>2005          </td> <td>M     </td> <td>Group     </td>\n",
              "        </tr>\n",
              "        <tr>\n",
              "            <td>9   </td> <td>Lee Brice          </td> <td>1094596  </td> <td>contemporary country,country,country road,modern country ...</td> <td>4        </td> <td>2010          </td> <td>M     </td> <td>Solo      </td>\n",
              "        </tr>\n",
              "    </tbody>\n",
              "</table>\n",
              "<p>... (1025 rows omitted)</p>"
            ],
            "text/plain": [
              "<IPython.core.display.HTML object>"
            ]
          },
          "metadata": {
            "tags": []
          }
        }
      ]
    },
    {
      "cell_type": "code",
      "metadata": {
        "colab": {
          "base_uri": "https://localhost:8080/"
        },
        "id": "CDiJp4QG-G6I",
        "outputId": "9d61a0f0-8610-4db3-eb51-5b59b8211fb8"
      },
      "source": [
        "group_artists = artists.where(\"Group.Solo\", \"Group\")\n",
        "group_artists = group_artists.column(\"Group.Solo\")\n",
        "group_artists_array = make_array(group_artists)\n",
        "group_count = group_artists_array.size\n",
        "group_count"
      ],
      "execution_count": null,
      "outputs": [
        {
          "output_type": "execute_result",
          "data": {
            "text/plain": [
              "332"
            ]
          },
          "metadata": {
            "tags": []
          },
          "execution_count": 29
        }
      ]
    },
    {
      "cell_type": "code",
      "metadata": {
        "colab": {
          "base_uri": "https://localhost:8080/"
        },
        "id": "H9MrlFBA_E3x",
        "outputId": "e2c0b03e-f65b-42f2-8e06-1a814243a06f"
      },
      "source": [
        "all_artist_count = artists.column(\"Group.Solo\")\n",
        "all_artist_count = make_array(all_artist_count)\n",
        "all_artist_count = all_artist_count.size\n",
        "all_artist_count"
      ],
      "execution_count": null,
      "outputs": [
        {
          "output_type": "execute_result",
          "data": {
            "text/plain": [
              "1035"
            ]
          },
          "metadata": {
            "tags": []
          },
          "execution_count": 30
        }
      ]
    },
    {
      "cell_type": "code",
      "metadata": {
        "colab": {
          "base_uri": "https://localhost:8080/"
        },
        "id": "al9L3Oz3_gx4",
        "outputId": "0b421530-9cb9-4fed-eecf-e58525b12dff"
      },
      "source": [
        "group_percentage = group_count / all_artist_count * 100\n",
        "group_percentage"
      ],
      "execution_count": null,
      "outputs": [
        {
          "output_type": "execute_result",
          "data": {
            "text/plain": [
              "32.07729468599034"
            ]
          },
          "metadata": {
            "tags": []
          },
          "execution_count": 31
        }
      ]
    },
    {
      "cell_type": "markdown",
      "metadata": {
        "id": "atV0OB82_q86"
      },
      "source": [
        "## **Answer:**\n",
        "\n",
        "32.08% of artists belong to a group out of all the artists that have appeared on the billboard top 100 chart in the past 20 years."
      ]
    },
    {
      "cell_type": "code",
      "metadata": {
        "id": "D3xhStCFAB5D"
      },
      "source": [
        "#Question 2"
      ],
      "execution_count": null,
      "outputs": []
    },
    {
      "cell_type": "code",
      "metadata": {
        "colab": {
          "base_uri": "https://localhost:8080/"
        },
        "id": "vjURMeUNADsL",
        "outputId": "ec8887b4-98e6-4f7d-92a5-ebb56217da3d"
      },
      "source": [
        "album_count = artists.column(\"NumAlbums\")\n",
        "avg_album = np.mean(album_count)\n",
        "avg_album"
      ],
      "execution_count": null,
      "outputs": [
        {
          "output_type": "execute_result",
          "data": {
            "text/plain": [
              "11.329468599033817"
            ]
          },
          "metadata": {
            "tags": []
          },
          "execution_count": 39
        }
      ]
    },
    {
      "cell_type": "markdown",
      "metadata": {
        "id": "hzMrcWEvAvi2"
      },
      "source": [
        "## **Answer:** \n",
        "\n",
        "11.33 is the average number of albums released by artists that have appeared on the billboard top 100 chart in the past 20 years"
      ]
    },
    {
      "cell_type": "markdown",
      "metadata": {
        "id": "1gZ6OlpeCNXZ"
      },
      "source": [
        "##**Visualization**\n",
        "Number of albums released by artists who have appeared on the billboard top 100 chart in the past 20 years"
      ]
    },
    {
      "cell_type": "code",
      "metadata": {
        "colab": {
          "base_uri": "https://localhost:8080/",
          "height": 281
        },
        "id": "RaWYDO2zC7iA",
        "outputId": "92a724ca-d772-4d37-f325-aebc5c7c10c6"
      },
      "source": [
        "artists.hist(\"NumAlbums\", bins=np.arange(0,80,5), unit=\"Albums\")"
      ],
      "execution_count": null,
      "outputs": [
        {
          "output_type": "display_data",
          "data": {
            "image/png": "[encoded data removed]",
            "text/plain": [
              "<Figure size 432x288 with 1 Axes>"
            ]
          },
          "metadata": {
            "tags": [],
            "needs_background": "light"
          }
        }
      ]
    },
    {
      "cell_type": "markdown",
      "metadata": {
        "id": "Xx2BQkg1E3ng"
      },
      "source": [
        "## **Hypothesis Test**\n"
      ]
    },
    {
      "cell_type": "code",
      "metadata": {
        "id": "M0hVWwjULgbW"
      },
      "source": [
        "# Null Hypothesis : The percentage of female to male artists on this list is 50/50\n",
        "# Alternative Hypothesis : The percentage of female to male artists on this list is not 50/50"
      ],
      "execution_count": null,
      "outputs": []
    },
    {
      "cell_type": "code",
      "metadata": {
        "colab": {
          "base_uri": "https://localhost:8080/"
        },
        "id": "2mHtiGHuGw7w",
        "outputId": "e9a2c59a-8390-41fb-da81-472359e52898"
      },
      "source": [
        "male_artists = artists.where(\"Gender\", \"M\")\n",
        "male_artists = male_artists.column(\"Artist\")\n",
        "count_male = male_artists.size\n",
        "count_male"
      ],
      "execution_count": null,
      "outputs": [
        {
          "output_type": "execute_result",
          "data": {
            "text/plain": [
              "716"
            ]
          },
          "metadata": {
            "tags": []
          },
          "execution_count": 54
        }
      ]
    },
    {
      "cell_type": "code",
      "metadata": {
        "colab": {
          "base_uri": "https://localhost:8080/"
        },
        "id": "1tAX8EppHSDb",
        "outputId": "5483264d-f19d-4e6c-c375-bc204af099e9"
      },
      "source": [
        "male_proportion = count_male / all_artist_count\n",
        "male_proportion"
      ],
      "execution_count": null,
      "outputs": [
        {
          "output_type": "execute_result",
          "data": {
            "text/plain": [
              "0.6917874396135266"
            ]
          },
          "metadata": {
            "tags": []
          },
          "execution_count": 82
        }
      ]
    },
    {
      "cell_type": "code",
      "metadata": {
        "colab": {
          "base_uri": "https://localhost:8080/"
        },
        "id": "5sX1DgfTHEMh",
        "outputId": "570e144a-d489-4451-8113-e22d01c36450"
      },
      "source": [
        "female_artists = artists.where(\"Gender\", \"F\")\n",
        "female_artists = female_artists.column(\"Artist\")\n",
        "count_female = female_artists.size\n",
        "count_female"
      ],
      "execution_count": null,
      "outputs": [
        {
          "output_type": "execute_result",
          "data": {
            "text/plain": [
              "235"
            ]
          },
          "metadata": {
            "tags": []
          },
          "execution_count": 56
        }
      ]
    },
    {
      "cell_type": "code",
      "metadata": {
        "colab": {
          "base_uri": "https://localhost:8080/"
        },
        "id": "bXVKj5XPHe23",
        "outputId": "dd526a47-62dd-474a-c661-a3152022e9c9"
      },
      "source": [
        "female_proportion = count_female / all_artist_count\n",
        "female_proportion"
      ],
      "execution_count": null,
      "outputs": [
        {
          "output_type": "execute_result",
          "data": {
            "text/plain": [
              "0.22705314009661837"
            ]
          },
          "metadata": {
            "tags": []
          },
          "execution_count": 83
        }
      ]
    },
    {
      "cell_type": "code",
      "metadata": {
        "id": "nuqkk1kyE7RK"
      },
      "source": [
        "model_proportions = [0.50, 0.50]"
      ],
      "execution_count": null,
      "outputs": []
    },
    {
      "cell_type": "code",
      "metadata": {
        "id": "rQAJ8_6vJdWx"
      },
      "source": [
        "def distance_from_50(p):\n",
        "    return abs(100*p - 50)"
      ],
      "execution_count": null,
      "outputs": []
    },
    {
      "cell_type": "code",
      "metadata": {
        "id": "-bhDZ7pKJGQN"
      },
      "source": [
        "def one_simulated_distance():\n",
        "    proportion = sample_proportions(all_artist_count, model_proportions).item(0)\n",
        "    return distance_from_50(proportion)"
      ],
      "execution_count": null,
      "outputs": []
    },
    {
      "cell_type": "code",
      "metadata": {
        "id": "Pmhfv4ZpKJsX"
      },
      "source": [
        "distances = make_array()\n",
        "\n",
        "repetitions = 10000\n",
        "for i in np.arange(repetitions):\n",
        "    distances = np.append(distances, one_simulated_distance())"
      ],
      "execution_count": null,
      "outputs": []
    },
    {
      "cell_type": "code",
      "metadata": {
        "colab": {
          "base_uri": "https://localhost:8080/"
        },
        "id": "XQrfWAzHKMIA",
        "outputId": "4ac4517c-8f2e-425b-9f3b-43894630aba3"
      },
      "source": [
        "distances"
      ],
      "execution_count": null,
      "outputs": [
        {
          "output_type": "execute_result",
          "data": {
            "text/plain": [
              "array([1.49758454, 1.5942029 , 2.36714976, ..., 3.81642512, 0.43478261,\n",
              "       1.78743961])"
            ]
          },
          "metadata": {
            "tags": []
          },
          "execution_count": 69
        }
      ]
    },
    {
      "cell_type": "code",
      "metadata": {
        "colab": {
          "base_uri": "https://localhost:8080/",
          "height": 281
        },
        "id": "OSCcWmtKKo57",
        "outputId": "6617079d-1b36-4db4-eefd-b86a85d52077"
      },
      "source": [
        "Table().with_column(\n",
        "    'Distance between Sample % and 50%', distances\n",
        ").hist(bins=np.arange(0,30,1))"
      ],
      "execution_count": null,
      "outputs": [
        {
          "output_type": "display_data",
          "data": {
            "image/png": "[encoded data removed]",
            "text/plain": [
              "<Figure size 432x288 with 1 Axes>"
            ]
          },
          "metadata": {
            "tags": [],
            "needs_background": "light"
          }
        }
      ]
    },
    {
      "cell_type": "code",
      "metadata": {
        "colab": {
          "base_uri": "https://localhost:8080/"
        },
        "id": "3XG4Yr1OLKg-",
        "outputId": "3ab2c9ff-3fa6-460b-f47b-27160312a287"
      },
      "source": [
        "observed_statistic_female = distance_from_50(female_proportion)\n",
        "observed_statistic_female"
      ],
      "execution_count": null,
      "outputs": [
        {
          "output_type": "execute_result",
          "data": {
            "text/plain": [
              "27.294685990338163"
            ]
          },
          "metadata": {
            "tags": []
          },
          "execution_count": 80
        }
      ]
    },
    {
      "cell_type": "code",
      "metadata": {
        "colab": {
          "base_uri": "https://localhost:8080/",
          "height": 281
        },
        "id": "kMmb7EcyL-VU",
        "outputId": "d72e174f-5e05-460d-d39d-20eba5e9e1f9"
      },
      "source": [
        "Table().with_column(\n",
        "    'Distance between Sample % and 50%', distances\n",
        ").hist()\n",
        "plots.scatter(observed_statistic_female, 0, color='red', s=30);"
      ],
      "execution_count": null,
      "outputs": [
        {
          "output_type": "display_data",
          "data": {
            "image/png": "[encoded data removed]",
            "text/plain": [
              "<Figure size 432x288 with 1 Axes>"
            ]
          },
          "metadata": {
            "tags": [],
            "needs_background": "light"
          }
        }
      ]
    },
    {
      "cell_type": "markdown",
      "metadata": {
        "id": "EKl0vtRpMHuv"
      },
      "source": [
        "## **Conclusion** :\n",
        "\n",
        "\n",
        "The p value is 0 for the observed statistic of 0.22705314009661837, we can most certainly deny the null hypothesis and accept the alternative."
      ]
    },
    {
      "cell_type": "markdown",
      "metadata": {
        "id": "EmeJtyLcRoM6"
      },
      "source": [
        "### Prediction Method - Correlation"
      ]
    },
    {
      "cell_type": "code",
      "metadata": {
        "colab": {
          "base_uri": "https://localhost:8080/",
          "height": 335
        },
        "id": "7IHp5YUSR7e5",
        "outputId": "d195ec4e-c63d-4c67-b323-9a069aefcad9"
      },
      "source": [
        "artists.scatter(\"Followers\", \"NumAlbums\")"
      ],
      "execution_count": null,
      "outputs": [
        {
          "output_type": "display_data",
          "data": {
            "image/png": "[encoded data removed]",
            "text/plain": [
              "<Figure size 360x360 with 1 Axes>"
            ]
          },
          "metadata": {
            "tags": [],
            "needs_background": "light"
          }
        }
      ]
    },
    {
      "cell_type": "code",
      "metadata": {
        "id": "XYlcokdgSpA-"
      },
      "source": [
        "def standard_units(any_numbers):\n",
        "    \"Convert any array of numbers to standard units.\"\n",
        "    return (any_numbers - np.mean(any_numbers))/np.std(any_numbers)"
      ],
      "execution_count": null,
      "outputs": []
    },
    {
      "cell_type": "code",
      "metadata": {
        "colab": {
          "base_uri": "https://localhost:8080/",
          "height": 335
        },
        "id": "Nt2WDrVHSqJB",
        "outputId": "33342413-49ab-43f1-f20a-c2e9b2c6045d"
      },
      "source": [
        "Table().with_columns(\n",
        "    'Followers (standard units)',  standard_units(artists.column('Followers')), \n",
        "    'NumAlbums (standard units)', standard_units(artists.column('NumAlbums'))\n",
        ").scatter(0, 1)\n",
        "plots.xlim(-3, 15)\n",
        "plots.ylim(-3, 15);"
      ],
      "execution_count": null,
      "outputs": [
        {
          "output_type": "display_data",
          "data": {
            "image/png": "[encoded data removed]",
            "text/plain": [
              "<Figure size 360x360 with 1 Axes>"
            ]
          },
          "metadata": {
            "tags": [],
            "needs_background": "light"
          }
        }
      ]
    },
    {
      "cell_type": "code",
      "metadata": {
        "colab": {
          "base_uri": "https://localhost:8080/",
          "height": 548
        },
        "id": "sSK8L7ZyTZnt",
        "outputId": "53fc29ff-e9ad-4bad-dac0-f1d42a94309b"
      },
      "source": [
        "followers_albums_su = artists.with_columns(\n",
        "        'followers (standard units)', standard_units(artists.column('Followers')),\n",
        "        'albums (standard units)', standard_units(artists.column('NumAlbums'))\n",
        "    )\n",
        "followers_albums_su"
      ],
      "execution_count": null,
      "outputs": [
        {
          "output_type": "execute_result",
          "data": {
            "text/html": [
              "<table border=\"1\" class=\"dataframe\">\n",
              "    <thead>\n",
              "        <tr>\n",
              "            <th>X</th> <th>Artist</th> <th>Followers</th> <th>Genres</th> <th>NumAlbums</th> <th>YearFirstAlbum</th> <th>Gender</th> <th>Group.Solo</th> <th>followers (standard units)</th> <th>albums (standard units)</th>\n",
              "        </tr>\n",
              "    </thead>\n",
              "    <tbody>\n",
              "        <tr>\n",
              "            <td>0   </td> <td>Ed Sheeran         </td> <td>52698756 </td> <td>pop,uk pop                                                  </td> <td>8        </td> <td>2011          </td> <td>M     </td> <td>Solo      </td> <td>12.6886                   </td> <td>-0.286185              </td>\n",
              "        </tr>\n",
              "        <tr>\n",
              "            <td>1   </td> <td>Justin Bieber      </td> <td>30711450 </td> <td>canadian pop,dance pop,pop,post-teen pop                    </td> <td>10       </td> <td>2009          </td> <td>M     </td> <td>Solo      </td> <td>7.20323                   </td> <td>-0.114275              </td>\n",
              "        </tr>\n",
              "        <tr>\n",
              "            <td>2   </td> <td>Jonas Brothers     </td> <td>3069527  </td> <td>boy band,dance pop,pop,post-teen pop                        </td> <td>10       </td> <td>2006          </td> <td>M     </td> <td>Group     </td> <td>0.307092                  </td> <td>-0.114275              </td>\n",
              "        </tr>\n",
              "        <tr>\n",
              "            <td>3   </td> <td>Drake              </td> <td>41420478 </td> <td>canadian hip hop,canadian pop,hip hop,pop rap,rap,toront ...</td> <td>11       </td> <td>2010          </td> <td>M     </td> <td>Solo      </td> <td>9.87493                   </td> <td>-0.0283195             </td>\n",
              "        </tr>\n",
              "        <tr>\n",
              "            <td>4   </td> <td>Chris Brown        </td> <td>9676862  </td> <td>dance pop,pop,pop rap,r&b,rap                               </td> <td>6        </td> <td>2005          </td> <td>M     </td> <td>Solo      </td> <td>1.9555                    </td> <td>-0.458095              </td>\n",
              "        </tr>\n",
              "        <tr>\n",
              "            <td>5   </td> <td>Taylor Swift       </td> <td>23709128 </td> <td>dance pop,pop,post-teen pop                                 </td> <td>10       </td> <td>2006          </td> <td>F     </td> <td>Solo      </td> <td>5.45628                   </td> <td>-0.114275              </td>\n",
              "        </tr>\n",
              "        <tr>\n",
              "            <td>6   </td> <td>Blake Shelton      </td> <td>4511508  </td> <td>contemporary country,country,country road                   </td> <td>12       </td> <td>2001          </td> <td>M     </td> <td>Solo      </td> <td>0.666839                  </td> <td>0.0576356              </td>\n",
              "        </tr>\n",
              "        <tr>\n",
              "            <td>7   </td> <td>Nicki Minaj        </td> <td>16331335 </td> <td>dance pop,hip pop,pop,pop rap,post-teen pop,rap             </td> <td>10       </td> <td>2010          </td> <td>F     </td> <td>Solo      </td> <td>3.61566                   </td> <td>-0.114275              </td>\n",
              "        </tr>\n",
              "        <tr>\n",
              "            <td>8   </td> <td>Panic! At The Disco</td> <td>8129075  </td> <td>baroque pop,emo,modern rock,pop punk                        </td> <td>8        </td> <td>2005          </td> <td>M     </td> <td>Group     </td> <td>1.56935                   </td> <td>-0.286185              </td>\n",
              "        </tr>\n",
              "        <tr>\n",
              "            <td>9   </td> <td>Lee Brice          </td> <td>1094596  </td> <td>contemporary country,country,country road,modern country ...</td> <td>4        </td> <td>2010          </td> <td>M     </td> <td>Solo      </td> <td>-0.185616                 </td> <td>-0.630005              </td>\n",
              "        </tr>\n",
              "    </tbody>\n",
              "</table>\n",
              "<p>... (1025 rows omitted)</p>"
            ],
            "text/plain": [
              "X    | Artist              | Followers | Genres                                                       | NumAlbums | YearFirstAlbum | Gender | Group.Solo | followers (standard units) | albums (standard units)\n",
              "0    | Ed Sheeran          | 52698756  | pop,uk pop                                                   | 8         | 2011           | M      | Solo       | 12.6886                    | -0.286185\n",
              "1    | Justin Bieber       | 30711450  | canadian pop,dance pop,pop,post-teen pop                     | 10        | 2009           | M      | Solo       | 7.20323                    | -0.114275\n",
              "2    | Jonas Brothers      | 3069527   | boy band,dance pop,pop,post-teen pop                         | 10        | 2006           | M      | Group      | 0.307092                   | -0.114275\n",
              "3    | Drake               | 41420478  | canadian hip hop,canadian pop,hip hop,pop rap,rap,toront ... | 11        | 2010           | M      | Solo       | 9.87493                    | -0.0283195\n",
              "4    | Chris Brown         | 9676862   | dance pop,pop,pop rap,r&b,rap                                | 6         | 2005           | M      | Solo       | 1.9555                     | -0.458095\n",
              "5    | Taylor Swift        | 23709128  | dance pop,pop,post-teen pop                                  | 10        | 2006           | F      | Solo       | 5.45628                    | -0.114275\n",
              "6    | Blake Shelton       | 4511508   | contemporary country,country,country road                    | 12        | 2001           | M      | Solo       | 0.666839                   | 0.0576356\n",
              "7    | Nicki Minaj         | 16331335  | dance pop,hip pop,pop,pop rap,post-teen pop,rap              | 10        | 2010           | F      | Solo       | 3.61566                    | -0.114275\n",
              "8    | Panic! At The Disco | 8129075   | baroque pop,emo,modern rock,pop punk                         | 8         | 2005           | M      | Group      | 1.56935                    | -0.286185\n",
              "9    | Lee Brice           | 1094596   | contemporary country,country,country road,modern country ... | 4         | 2010           | M      | Solo       | -0.185616                  | -0.630005\n",
              "... (1025 rows omitted)"
            ]
          },
          "metadata": {
            "tags": []
          },
          "execution_count": 93
        }
      ]
    },
    {
      "cell_type": "code",
      "metadata": {
        "colab": {
          "base_uri": "https://localhost:8080/",
          "height": 635
        },
        "id": "3NdTKGDYUEzT",
        "outputId": "f9266d0b-91fd-4d26-b3bb-c7fc4c1516a8"
      },
      "source": [
        "su_product = followers_albums_su.with_column('product of standard units', followers_albums_su.column(8) * followers_albums_su.column(9))\n",
        "su_product"
      ],
      "execution_count": null,
      "outputs": [
        {
          "output_type": "execute_result",
          "data": {
            "text/html": [
              "<table border=\"1\" class=\"dataframe\">\n",
              "    <thead>\n",
              "        <tr>\n",
              "            <th>X</th> <th>Artist</th> <th>Followers</th> <th>Genres</th> <th>NumAlbums</th> <th>YearFirstAlbum</th> <th>Gender</th> <th>Group.Solo</th> <th>followers (standard units)</th> <th>albums (standard units)</th> <th>product of standard units</th>\n",
              "        </tr>\n",
              "    </thead>\n",
              "    <tbody>\n",
              "        <tr>\n",
              "            <td>0   </td> <td>Ed Sheeran         </td> <td>52698756 </td> <td>pop,uk pop                                                  </td> <td>8        </td> <td>2011          </td> <td>M     </td> <td>Solo      </td> <td>12.6886                   </td> <td>-0.286185              </td> <td>-3.6313                  </td>\n",
              "        </tr>\n",
              "        <tr>\n",
              "            <td>1   </td> <td>Justin Bieber      </td> <td>30711450 </td> <td>canadian pop,dance pop,pop,post-teen pop                    </td> <td>10       </td> <td>2009          </td> <td>M     </td> <td>Solo      </td> <td>7.20323                   </td> <td>-0.114275              </td> <td>-0.823146                </td>\n",
              "        </tr>\n",
              "        <tr>\n",
              "            <td>2   </td> <td>Jonas Brothers     </td> <td>3069527  </td> <td>boy band,dance pop,pop,post-teen pop                        </td> <td>10       </td> <td>2006          </td> <td>M     </td> <td>Group     </td> <td>0.307092                  </td> <td>-0.114275              </td> <td>-0.0350929               </td>\n",
              "        </tr>\n",
              "        <tr>\n",
              "            <td>3   </td> <td>Drake              </td> <td>41420478 </td> <td>canadian hip hop,canadian pop,hip hop,pop rap,rap,toront ...</td> <td>11       </td> <td>2010          </td> <td>M     </td> <td>Solo      </td> <td>9.87493                   </td> <td>-0.0283195             </td> <td>-0.279653                </td>\n",
              "        </tr>\n",
              "        <tr>\n",
              "            <td>4   </td> <td>Chris Brown        </td> <td>9676862  </td> <td>dance pop,pop,pop rap,r&b,rap                               </td> <td>6        </td> <td>2005          </td> <td>M     </td> <td>Solo      </td> <td>1.9555                    </td> <td>-0.458095              </td> <td>-0.895804                </td>\n",
              "        </tr>\n",
              "        <tr>\n",
              "            <td>5   </td> <td>Taylor Swift       </td> <td>23709128 </td> <td>dance pop,pop,post-teen pop                                 </td> <td>10       </td> <td>2006          </td> <td>F     </td> <td>Solo      </td> <td>5.45628                   </td> <td>-0.114275              </td> <td>-0.623515                </td>\n",
              "        </tr>\n",
              "        <tr>\n",
              "            <td>6   </td> <td>Blake Shelton      </td> <td>4511508  </td> <td>contemporary country,country,country road                   </td> <td>12       </td> <td>2001          </td> <td>M     </td> <td>Solo      </td> <td>0.666839                  </td> <td>0.0576356              </td> <td>0.0384337                </td>\n",
              "        </tr>\n",
              "        <tr>\n",
              "            <td>7   </td> <td>Nicki Minaj        </td> <td>16331335 </td> <td>dance pop,hip pop,pop,pop rap,post-teen pop,rap             </td> <td>10       </td> <td>2010          </td> <td>F     </td> <td>Solo      </td> <td>3.61566                   </td> <td>-0.114275              </td> <td>-0.413179                </td>\n",
              "        </tr>\n",
              "        <tr>\n",
              "            <td>8   </td> <td>Panic! At The Disco</td> <td>8129075  </td> <td>baroque pop,emo,modern rock,pop punk                        </td> <td>8        </td> <td>2005          </td> <td>M     </td> <td>Group     </td> <td>1.56935                   </td> <td>-0.286185              </td> <td>-0.449125                </td>\n",
              "        </tr>\n",
              "        <tr>\n",
              "            <td>9   </td> <td>Lee Brice          </td> <td>1094596  </td> <td>contemporary country,country,country road,modern country ...</td> <td>4        </td> <td>2010          </td> <td>M     </td> <td>Solo      </td> <td>-0.185616                 </td> <td>-0.630005              </td> <td>0.116939                 </td>\n",
              "        </tr>\n",
              "    </tbody>\n",
              "</table>\n",
              "<p>... (1025 rows omitted)</p>"
            ],
            "text/plain": [
              "X    | Artist              | Followers | Genres                                                       | NumAlbums | YearFirstAlbum | Gender | Group.Solo | followers (standard units) | albums (standard units) | product of standard units\n",
              "0    | Ed Sheeran          | 52698756  | pop,uk pop                                                   | 8         | 2011           | M      | Solo       | 12.6886                    | -0.286185               | -3.6313\n",
              "1    | Justin Bieber       | 30711450  | canadian pop,dance pop,pop,post-teen pop                     | 10        | 2009           | M      | Solo       | 7.20323                    | -0.114275               | -0.823146\n",
              "2    | Jonas Brothers      | 3069527   | boy band,dance pop,pop,post-teen pop                         | 10        | 2006           | M      | Group      | 0.307092                   | -0.114275               | -0.0350929\n",
              "3    | Drake               | 41420478  | canadian hip hop,canadian pop,hip hop,pop rap,rap,toront ... | 11        | 2010           | M      | Solo       | 9.87493                    | -0.0283195              | -0.279653\n",
              "4    | Chris Brown         | 9676862   | dance pop,pop,pop rap,r&b,rap                                | 6         | 2005           | M      | Solo       | 1.9555                     | -0.458095               | -0.895804\n",
              "5    | Taylor Swift        | 23709128  | dance pop,pop,post-teen pop                                  | 10        | 2006           | F      | Solo       | 5.45628                    | -0.114275               | -0.623515\n",
              "6    | Blake Shelton       | 4511508   | contemporary country,country,country road                    | 12        | 2001           | M      | Solo       | 0.666839                   | 0.0576356               | 0.0384337\n",
              "7    | Nicki Minaj         | 16331335  | dance pop,hip pop,pop,pop rap,post-teen pop,rap              | 10        | 2010           | F      | Solo       | 3.61566                    | -0.114275               | -0.413179\n",
              "8    | Panic! At The Disco | 8129075   | baroque pop,emo,modern rock,pop punk                         | 8         | 2005           | M      | Group      | 1.56935                    | -0.286185               | -0.449125\n",
              "9    | Lee Brice           | 1094596   | contemporary country,country,country road,modern country ... | 4         | 2010           | M      | Solo       | -0.185616                  | -0.630005               | 0.116939\n",
              "... (1025 rows omitted)"
            ]
          },
          "metadata": {
            "tags": []
          },
          "execution_count": 94
        }
      ]
    },
    {
      "cell_type": "code",
      "metadata": {
        "colab": {
          "base_uri": "https://localhost:8080/"
        },
        "id": "sQOskaEXUvZ1",
        "outputId": "f3604139-ea18-4acd-c0a4-0a3dd6df1f46"
      },
      "source": [
        "r = np.mean(su_product.column(10))\n",
        "r"
      ],
      "execution_count": null,
      "outputs": [
        {
          "output_type": "execute_result",
          "data": {
            "text/plain": [
              "0.035728159580289"
            ]
          },
          "metadata": {
            "tags": []
          },
          "execution_count": 95
        }
      ]
    },
    {
      "cell_type": "markdown",
      "metadata": {
        "id": "YEl6I8YXU78h"
      },
      "source": [
        "## **Correlation Conclusion**\n",
        "\n",
        "r = .04\n",
        "\n",
        "This value of r indicates that there is no correlation between followers and number of albums that an artist or group has put out, this is because the value of r is so close to 0"
      ]
    }
  ]
}
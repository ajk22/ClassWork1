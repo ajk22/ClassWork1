{
  "nbformat": 4,
  "nbformat_minor": 0,
  "metadata": {
    "colab": {
      "name": "IST210Assignment1.ipynb",
      "provenance": [],
      "collapsed_sections": [],
      "authorship_tag": "ABX9TyM/+1LKtGX6DyYnoUqCVjxH",
      "include_colab_link": true
    },
    "kernelspec": {
      "name": "python3",
      "display_name": "Python 3"
    }
  },
  "cells": [
    {
      "cell_type": "markdown",
      "metadata": {
        "id": "view-in-github",
        "colab_type": "text"
      },
      "source": [
        "<a href=\"https://colab.research.google.com/github/ajk22/ClassWork1/blob/master/IST210Assignment1.ipynb\" target=\"_parent\"><img src=\"https://colab.research.google.com/assets/colab-badge.svg\" alt=\"Open In Colab\"/></a>"
      ]
    },
    {
      "cell_type": "markdown",
      "metadata": {
        "id": "KYEgGfwKGLPE",
        "colab_type": "text"
      },
      "source": [
        "### Do you like using Jupyter Notebooks?"
      ]
    },
    {
      "cell_type": "markdown",
      "metadata": {
        "id": "D4g6bkqjGRxY",
        "colab_type": "text"
      },
      "source": [
        "So far I have liked using Jupyter Notebooks. It is easy to navigate like other Google applications, however I am just a little confused on the purpose of the application and what it's main use is for."
      ]
    },
    {
      "cell_type": "markdown",
      "metadata": {
        "id": "1w6soZcZGWaN",
        "colab_type": "text"
      },
      "source": [
        "### What do you want to learn more about in Jupyter Notebooks?"
      ]
    },
    {
      "cell_type": "markdown",
      "metadata": {
        "id": "IyAVeQAAGaX5",
        "colab_type": "text"
      },
      "source": [
        "I would like to learn more about the main uses for this application in the professional world. I would also like to know all the abilities that the \n",
        "application posesses. "
      ]
    },
    {
      "cell_type": "markdown",
      "metadata": {
        "id": "OMOgB35CGjob",
        "colab_type": "text"
      },
      "source": [
        "![Pittsburgh Penguins Logo](https://raw.githubusercontent.com/ajk22/ClassWork1/master/Images/PenguinsPicture1.png)"
      ]
    }
  ]
}
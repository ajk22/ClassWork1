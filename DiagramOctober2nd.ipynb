{
  "nbformat": 4,
  "nbformat_minor": 0,
  "metadata": {
    "colab": {
      "name": "DiagramOctober2nd.ipynb",
      "provenance": [],
      "authorship_tag": "ABX9TyOAE94yckGjjj7Gc9qipP7v",
      "include_colab_link": true
    },
    "kernelspec": {
      "name": "python3",
      "display_name": "Python 3"
    }
  },
  "cells": [
    {
      "cell_type": "markdown",
      "metadata": {
        "id": "view-in-github",
        "colab_type": "text"
      },
      "source": [
        "<a href=\"https://colab.research.google.com/github/ajk22/ClassWork1/blob/master/DiagramOctober2nd.ipynb\" target=\"_parent\"><img src=\"https://colab.research.google.com/assets/colab-badge.svg\" alt=\"Open In Colab\"/></a>"
      ]
    },
    {
      "cell_type": "markdown",
      "metadata": {
        "id": "OsaxInw3jBTE"
      },
      "source": [
        "![My Diagram](https://raw.githubusercontent.com/ajk22/ClassWork1/master/Images/Untitled%20Diagram.png)"
      ]
    }
  ]
}
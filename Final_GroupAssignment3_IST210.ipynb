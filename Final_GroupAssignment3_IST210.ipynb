{
  "nbformat": 4,
  "nbformat_minor": 0,
  "metadata": {
    "colab": {
      "name": "Copy of GroupAssignment3-IST210.ipynb",
      "provenance": [],
      "include_colab_link": true
    },
    "kernelspec": {
      "name": "python3",
      "display_name": "Python 3"
    }
  },
  "cells": [
    {
      "cell_type": "markdown",
      "metadata": {
        "id": "view-in-github",
        "colab_type": "text"
      },
      "source": [
        "<a href=\"https://colab.research.google.com/github/ajk22/ClassWork1/blob/master/Final_GroupAssignment3_IST210.ipynb\" target=\"_parent\"><img src=\"https://colab.research.google.com/assets/colab-badge.svg\" alt=\"Open In Colab\"/></a>"
      ]
    },
    {
      "cell_type": "code",
      "metadata": {
        "colab": {
          "base_uri": "https://localhost:8080/"
        },
        "id": "MBNLEtTJMfwt",
        "outputId": "e7b8807a-1c53-4833-c981-8d925a5b9445"
      },
      "source": [
        "%load_ext sql"
      ],
      "execution_count": 23,
      "outputs": [
        {
          "output_type": "stream",
          "text": [
            "The sql extension is already loaded. To reload it, use:\n",
            "  %reload_ext sql\n"
          ],
          "name": "stdout"
        }
      ]
    },
    {
      "cell_type": "code",
      "metadata": {
        "id": "boE54vm_NX0h",
        "colab": {
          "base_uri": "https://localhost:8080/",
          "height": 34
        },
        "outputId": "b8bb080a-2760-4f24-d445-f365f319d3bf"
      },
      "source": [
        "%sql sqlite:///cyberHotelDatabase.db"
      ],
      "execution_count": 24,
      "outputs": [
        {
          "output_type": "execute_result",
          "data": {
            "application/vnd.google.colaboratory.intrinsic+json": {
              "type": "string"
            },
            "text/plain": [
              "'Connected: @cyberHotelDatabase.db'"
            ]
          },
          "metadata": {
            "tags": []
          },
          "execution_count": 24
        }
      ]
    },
    {
      "cell_type": "code",
      "metadata": {
        "colab": {
          "base_uri": "https://localhost:8080/"
        },
        "id": "xdU3hQfyOCNc",
        "outputId": "577e072f-ebc8-40ee-c584-edcd77638bfd"
      },
      "source": [
        "%%sql  \n",
        "DROP TABLE IF EXISTS Hotel;\n",
        "CREATE TABLE Hotel(hotel_id text primaray key, address text, hotel_name text, owner_name text);"
      ],
      "execution_count": 25,
      "outputs": [
        {
          "output_type": "stream",
          "text": [
            " * sqlite:///cyberHotelDatabase.db\n",
            "Done.\n",
            "Done.\n"
          ],
          "name": "stdout"
        },
        {
          "output_type": "execute_result",
          "data": {
            "text/plain": [
              "[]"
            ]
          },
          "metadata": {
            "tags": []
          },
          "execution_count": 25
        }
      ]
    },
    {
      "cell_type": "code",
      "metadata": {
        "colab": {
          "base_uri": "https://localhost:8080/"
        },
        "id": "mZZEWrKuO3yo",
        "outputId": "20bec128-257b-431e-c94c-71c9d1b70850"
      },
      "source": [
        "%%sql  \n",
        "INSERT INTO Hotel VALUES('11111','321 Hotel Street, State College PA','Hotel #1','Tom Brady');\n",
        "INSERT INTO Hotel VALUES('22222','101 Motel Road, Pittsburgh PA','Hotel #2','Wiz Khalifa');\n",
        "INSERT INTO Hotel VALUES('33333','1200 Lodge Lane, Erie PA','Hotel #3','Mike Wazowski');\n",
        "INSERT INTO Hotel VALUES('44444','55 Hotel Way, Seattle WA','Hotel #4','Lebron James');\n",
        "INSERT INTO Hotel VALUES('55555','001 Hotel Highway, Columbus OH','Hotel #4','John Stamos')"
      ],
      "execution_count": 26,
      "outputs": [
        {
          "output_type": "stream",
          "text": [
            " * sqlite:///cyberHotelDatabase.db\n",
            "1 rows affected.\n",
            "1 rows affected.\n",
            "1 rows affected.\n",
            "1 rows affected.\n",
            "1 rows affected.\n"
          ],
          "name": "stdout"
        },
        {
          "output_type": "execute_result",
          "data": {
            "text/plain": [
              "[]"
            ]
          },
          "metadata": {
            "tags": []
          },
          "execution_count": 26
        }
      ]
    },
    {
      "cell_type": "code",
      "metadata": {
        "colab": {
          "base_uri": "https://localhost:8080/",
          "height": 174
        },
        "id": "Xi2aARhqRXft",
        "outputId": "d3f0e8ba-1bc8-439f-b959-a36dfc62c479"
      },
      "source": [
        "%%sql\n",
        "SELECT * FROM Hotel;"
      ],
      "execution_count": 27,
      "outputs": [
        {
          "output_type": "stream",
          "text": [
            " * sqlite:///cyberHotelDatabase.db\n",
            "Done.\n"
          ],
          "name": "stdout"
        },
        {
          "output_type": "execute_result",
          "data": {
            "text/html": [
              "<table>\n",
              "    <tr>\n",
              "        <th>hotel_id</th>\n",
              "        <th>address</th>\n",
              "        <th>hotel_name</th>\n",
              "        <th>owner_name</th>\n",
              "    </tr>\n",
              "    <tr>\n",
              "        <td>11111</td>\n",
              "        <td>321 Hotel Street, State College PA</td>\n",
              "        <td>Hotel #1</td>\n",
              "        <td>Tom Brady</td>\n",
              "    </tr>\n",
              "    <tr>\n",
              "        <td>22222</td>\n",
              "        <td>101 Motel Road, Pittsburgh PA</td>\n",
              "        <td>Hotel #2</td>\n",
              "        <td>Wiz Khalifa</td>\n",
              "    </tr>\n",
              "    <tr>\n",
              "        <td>33333</td>\n",
              "        <td>1200 Lodge Lane, Erie PA</td>\n",
              "        <td>Hotel #3</td>\n",
              "        <td>Mike Wazowski</td>\n",
              "    </tr>\n",
              "    <tr>\n",
              "        <td>44444</td>\n",
              "        <td>55 Hotel Way, Seattle WA</td>\n",
              "        <td>Hotel #4</td>\n",
              "        <td>Lebron James</td>\n",
              "    </tr>\n",
              "    <tr>\n",
              "        <td>55555</td>\n",
              "        <td>001 Hotel Highway, Columbus OH</td>\n",
              "        <td>Hotel #4</td>\n",
              "        <td>John Stamos</td>\n",
              "    </tr>\n",
              "</table>"
            ],
            "text/plain": [
              "[('11111', '321 Hotel Street, State College PA', 'Hotel #1', 'Tom Brady'),\n",
              " ('22222', '101 Motel Road, Pittsburgh PA', 'Hotel #2', 'Wiz Khalifa'),\n",
              " ('33333', '1200 Lodge Lane, Erie PA', 'Hotel #3', 'Mike Wazowski'),\n",
              " ('44444', '55 Hotel Way, Seattle WA', 'Hotel #4', 'Lebron James'),\n",
              " ('55555', '001 Hotel Highway, Columbus OH', 'Hotel #4', 'John Stamos')]"
            ]
          },
          "metadata": {
            "tags": []
          },
          "execution_count": 27
        }
      ]
    },
    {
      "cell_type": "code",
      "metadata": {
        "colab": {
          "base_uri": "https://localhost:8080/"
        },
        "id": "Z4w-Efz_SbUD",
        "outputId": "6305fd2e-ad7d-43fb-e66c-9e264407029b"
      },
      "source": [
        "%%sql  \n",
        "DROP TABLE IF EXISTS Guest;\n",
        "CREATE TABLE Guest(guest_id text primaray key, hotel_id text, first_name text, last_name text, date_of_birth text, room_number text);"
      ],
      "execution_count": 28,
      "outputs": [
        {
          "output_type": "stream",
          "text": [
            " * sqlite:///cyberHotelDatabase.db\n",
            "Done.\n",
            "Done.\n"
          ],
          "name": "stdout"
        },
        {
          "output_type": "execute_result",
          "data": {
            "text/plain": [
              "[]"
            ]
          },
          "metadata": {
            "tags": []
          },
          "execution_count": 28
        }
      ]
    },
    {
      "cell_type": "code",
      "metadata": {
        "id": "JTeY9QBkTxoM",
        "colab": {
          "base_uri": "https://localhost:8080/"
        },
        "outputId": "793eabdd-6653-40a1-9034-85deae266df2"
      },
      "source": [
        "%%sql\n",
        "INSERT INTO Guest VALUES('db321','11111','Don','Roberto','09/13/80','322');\n",
        "INSERT INTO Guest VALUES('jj451','11111','Julio','Jones','02/08/89','114');\n",
        "INSERT INTO Guest VALUES('ss282','22222','Smitty','Smith','06/22/68','110');\n",
        "INSERT INTO Guest VALUES('bs553','11111','Bobby','Shmurda','08/04/94','304');\n",
        "INSERT INTO Guest VALUES('sb420','33333','Sponge','Bob','01/01/91','229');"
      ],
      "execution_count": 29,
      "outputs": [
        {
          "output_type": "stream",
          "text": [
            " * sqlite:///cyberHotelDatabase.db\n",
            "1 rows affected.\n",
            "1 rows affected.\n",
            "1 rows affected.\n",
            "1 rows affected.\n",
            "1 rows affected.\n"
          ],
          "name": "stdout"
        },
        {
          "output_type": "execute_result",
          "data": {
            "text/plain": [
              "[]"
            ]
          },
          "metadata": {
            "tags": []
          },
          "execution_count": 29
        }
      ]
    },
    {
      "cell_type": "code",
      "metadata": {
        "colab": {
          "base_uri": "https://localhost:8080/",
          "height": 174
        },
        "id": "MsBEIM2fWZ8J",
        "outputId": "5557b972-430f-4388-f49b-09d42c1e1404"
      },
      "source": [
        "%%sql\n",
        "SELECT * FROM Guest;"
      ],
      "execution_count": 30,
      "outputs": [
        {
          "output_type": "stream",
          "text": [
            " * sqlite:///cyberHotelDatabase.db\n",
            "Done.\n"
          ],
          "name": "stdout"
        },
        {
          "output_type": "execute_result",
          "data": {
            "text/html": [
              "<table>\n",
              "    <tr>\n",
              "        <th>guest_id</th>\n",
              "        <th>hotel_id</th>\n",
              "        <th>first_name</th>\n",
              "        <th>last_name</th>\n",
              "        <th>date_of_birth</th>\n",
              "        <th>room_number</th>\n",
              "    </tr>\n",
              "    <tr>\n",
              "        <td>db321</td>\n",
              "        <td>11111</td>\n",
              "        <td>Don</td>\n",
              "        <td>Roberto</td>\n",
              "        <td>09/13/80</td>\n",
              "        <td>322</td>\n",
              "    </tr>\n",
              "    <tr>\n",
              "        <td>jj451</td>\n",
              "        <td>11111</td>\n",
              "        <td>Julio</td>\n",
              "        <td>Jones</td>\n",
              "        <td>02/08/89</td>\n",
              "        <td>114</td>\n",
              "    </tr>\n",
              "    <tr>\n",
              "        <td>ss282</td>\n",
              "        <td>22222</td>\n",
              "        <td>Smitty</td>\n",
              "        <td>Smith</td>\n",
              "        <td>06/22/68</td>\n",
              "        <td>110</td>\n",
              "    </tr>\n",
              "    <tr>\n",
              "        <td>bs553</td>\n",
              "        <td>11111</td>\n",
              "        <td>Bobby</td>\n",
              "        <td>Shmurda</td>\n",
              "        <td>08/04/94</td>\n",
              "        <td>304</td>\n",
              "    </tr>\n",
              "    <tr>\n",
              "        <td>sb420</td>\n",
              "        <td>33333</td>\n",
              "        <td>Sponge</td>\n",
              "        <td>Bob</td>\n",
              "        <td>01/01/91</td>\n",
              "        <td>229</td>\n",
              "    </tr>\n",
              "</table>"
            ],
            "text/plain": [
              "[('db321', '11111', 'Don', 'Roberto', '09/13/80', '322'),\n",
              " ('jj451', '11111', 'Julio', 'Jones', '02/08/89', '114'),\n",
              " ('ss282', '22222', 'Smitty', 'Smith', '06/22/68', '110'),\n",
              " ('bs553', '11111', 'Bobby', 'Shmurda', '08/04/94', '304'),\n",
              " ('sb420', '33333', 'Sponge', 'Bob', '01/01/91', '229')]"
            ]
          },
          "metadata": {
            "tags": []
          },
          "execution_count": 30
        }
      ]
    },
    {
      "cell_type": "code",
      "metadata": {
        "colab": {
          "base_uri": "https://localhost:8080/"
        },
        "id": "PwI4zOtNWzDm",
        "outputId": "8114e4f6-66b6-478d-bcbd-9cb8375d501f"
      },
      "source": [
        "%%sql  \n",
        "DROP TABLE IF EXISTS Room;\n",
        "CREATE TABLE Room(room_number text primaray key, hotel_id text, floor_number text, bed_size text);"
      ],
      "execution_count": 31,
      "outputs": [
        {
          "output_type": "stream",
          "text": [
            " * sqlite:///cyberHotelDatabase.db\n",
            "Done.\n",
            "Done.\n"
          ],
          "name": "stdout"
        },
        {
          "output_type": "execute_result",
          "data": {
            "text/plain": [
              "[]"
            ]
          },
          "metadata": {
            "tags": []
          },
          "execution_count": 31
        }
      ]
    },
    {
      "cell_type": "code",
      "metadata": {
        "colab": {
          "base_uri": "https://localhost:8080/"
        },
        "id": "Ek6j8GOFXBP8",
        "outputId": "9f8be28d-470a-4460-87ad-4b95b3e483cd"
      },
      "source": [
        "%%sql\n",
        "INSERT INTO Room VALUES('322','11111','3','Queen');\n",
        "INSERT INTO Room VALUES('114','11111','1','King');\n",
        "INSERT INTO Room VALUES('110','22222','1','Twin');\n",
        "INSERT INTO Room VALUES('304','11111','1','King');\n",
        "INSERT INTO Room VALUES('229','33333','2','Queen');"
      ],
      "execution_count": 32,
      "outputs": [
        {
          "output_type": "stream",
          "text": [
            " * sqlite:///cyberHotelDatabase.db\n",
            "1 rows affected.\n",
            "1 rows affected.\n",
            "1 rows affected.\n",
            "1 rows affected.\n",
            "1 rows affected.\n"
          ],
          "name": "stdout"
        },
        {
          "output_type": "execute_result",
          "data": {
            "text/plain": [
              "[]"
            ]
          },
          "metadata": {
            "tags": []
          },
          "execution_count": 32
        }
      ]
    },
    {
      "cell_type": "code",
      "metadata": {
        "colab": {
          "base_uri": "https://localhost:8080/",
          "height": 174
        },
        "id": "-R_c7thdYbGZ",
        "outputId": "9bd42181-81b9-451e-c021-4bab4ed09753"
      },
      "source": [
        "%%sql\n",
        "SELECT * FROM Room;"
      ],
      "execution_count": 33,
      "outputs": [
        {
          "output_type": "stream",
          "text": [
            " * sqlite:///cyberHotelDatabase.db\n",
            "Done.\n"
          ],
          "name": "stdout"
        },
        {
          "output_type": "execute_result",
          "data": {
            "text/html": [
              "<table>\n",
              "    <tr>\n",
              "        <th>room_number</th>\n",
              "        <th>hotel_id</th>\n",
              "        <th>floor_number</th>\n",
              "        <th>bed_size</th>\n",
              "    </tr>\n",
              "    <tr>\n",
              "        <td>322</td>\n",
              "        <td>11111</td>\n",
              "        <td>3</td>\n",
              "        <td>Queen</td>\n",
              "    </tr>\n",
              "    <tr>\n",
              "        <td>114</td>\n",
              "        <td>11111</td>\n",
              "        <td>1</td>\n",
              "        <td>King</td>\n",
              "    </tr>\n",
              "    <tr>\n",
              "        <td>110</td>\n",
              "        <td>22222</td>\n",
              "        <td>1</td>\n",
              "        <td>Twin</td>\n",
              "    </tr>\n",
              "    <tr>\n",
              "        <td>304</td>\n",
              "        <td>11111</td>\n",
              "        <td>1</td>\n",
              "        <td>King</td>\n",
              "    </tr>\n",
              "    <tr>\n",
              "        <td>229</td>\n",
              "        <td>33333</td>\n",
              "        <td>2</td>\n",
              "        <td>Queen</td>\n",
              "    </tr>\n",
              "</table>"
            ],
            "text/plain": [
              "[('322', '11111', '3', 'Queen'),\n",
              " ('114', '11111', '1', 'King'),\n",
              " ('110', '22222', '1', 'Twin'),\n",
              " ('304', '11111', '1', 'King'),\n",
              " ('229', '33333', '2', 'Queen')]"
            ]
          },
          "metadata": {
            "tags": []
          },
          "execution_count": 33
        }
      ]
    },
    {
      "cell_type": "code",
      "metadata": {
        "colab": {
          "base_uri": "https://localhost:8080/"
        },
        "id": "wrc-inRMYm3D",
        "outputId": "23e75d8d-60e5-4400-d8d6-4eed9bb647b9"
      },
      "source": [
        "%%sql\n",
        "DROP TABLE IF EXISTS Transactions;\n",
        "CREATE TABLE Transactions(transaction_id text primary key, guest_id text, rental_id text, card_number text, date text, transaction_amount real);\n"
      ],
      "execution_count": 34,
      "outputs": [
        {
          "output_type": "stream",
          "text": [
            " * sqlite:///cyberHotelDatabase.db\n",
            "Done.\n",
            "Done.\n"
          ],
          "name": "stdout"
        },
        {
          "output_type": "execute_result",
          "data": {
            "text/plain": [
              "[]"
            ]
          },
          "metadata": {
            "tags": []
          },
          "execution_count": 34
        }
      ]
    },
    {
      "cell_type": "code",
      "metadata": {
        "colab": {
          "base_uri": "https://localhost:8080/"
        },
        "id": "RUqbWsvmZI_B",
        "outputId": "1cd7d497-8572-4d8f-9ca1-fcf34fe0be7d"
      },
      "source": [
        "%%sql\n",
        "INSERT INTO Transactions VALUES('00001','jj451','02001','1111-1111-1111-1112','11/29/19',220.91);\n",
        "INSERT INTO Transactions VALUES('00002','jj451','04131','1111-1111-1111-1112','11/30/19',185.42);\n",
        "INSERT INTO Transactions VALUES('00003','jj451','06731','1111-1111-1111-1112','11/30/19',202.80);\n",
        "INSERT INTO Transactions VALUES('00004','sb420','09831','1111-2222-3333-4444','03/22/20',197.03);\n",
        "INSERT INTO Transactions VALUES('00005','ss828','01022','9999-8888-7777-6666','04/19/20',340.64);"
      ],
      "execution_count": 35,
      "outputs": [
        {
          "output_type": "stream",
          "text": [
            " * sqlite:///cyberHotelDatabase.db\n",
            "1 rows affected.\n",
            "1 rows affected.\n",
            "1 rows affected.\n",
            "1 rows affected.\n",
            "1 rows affected.\n"
          ],
          "name": "stdout"
        },
        {
          "output_type": "execute_result",
          "data": {
            "text/plain": [
              "[]"
            ]
          },
          "metadata": {
            "tags": []
          },
          "execution_count": 35
        }
      ]
    },
    {
      "cell_type": "code",
      "metadata": {
        "colab": {
          "base_uri": "https://localhost:8080/",
          "height": 174
        },
        "id": "iRRVJ83scKb2",
        "outputId": "7673a688-e91a-4843-9803-7dba10c22391"
      },
      "source": [
        "%%sql\n",
        "SELECT * FROM Transactions;"
      ],
      "execution_count": 36,
      "outputs": [
        {
          "output_type": "stream",
          "text": [
            " * sqlite:///cyberHotelDatabase.db\n",
            "Done.\n"
          ],
          "name": "stdout"
        },
        {
          "output_type": "execute_result",
          "data": {
            "text/html": [
              "<table>\n",
              "    <tr>\n",
              "        <th>transaction_id</th>\n",
              "        <th>guest_id</th>\n",
              "        <th>rental_id</th>\n",
              "        <th>card_number</th>\n",
              "        <th>date</th>\n",
              "        <th>transaction_amount</th>\n",
              "    </tr>\n",
              "    <tr>\n",
              "        <td>00001</td>\n",
              "        <td>jj451</td>\n",
              "        <td>02001</td>\n",
              "        <td>1111-1111-1111-1112</td>\n",
              "        <td>11/29/19</td>\n",
              "        <td>220.91</td>\n",
              "    </tr>\n",
              "    <tr>\n",
              "        <td>00002</td>\n",
              "        <td>jj451</td>\n",
              "        <td>04131</td>\n",
              "        <td>1111-1111-1111-1112</td>\n",
              "        <td>11/30/19</td>\n",
              "        <td>185.42</td>\n",
              "    </tr>\n",
              "    <tr>\n",
              "        <td>00003</td>\n",
              "        <td>jj451</td>\n",
              "        <td>06731</td>\n",
              "        <td>1111-1111-1111-1112</td>\n",
              "        <td>11/30/19</td>\n",
              "        <td>202.8</td>\n",
              "    </tr>\n",
              "    <tr>\n",
              "        <td>00004</td>\n",
              "        <td>sb420</td>\n",
              "        <td>09831</td>\n",
              "        <td>1111-2222-3333-4444</td>\n",
              "        <td>03/22/20</td>\n",
              "        <td>197.03</td>\n",
              "    </tr>\n",
              "    <tr>\n",
              "        <td>00005</td>\n",
              "        <td>ss828</td>\n",
              "        <td>01022</td>\n",
              "        <td>9999-8888-7777-6666</td>\n",
              "        <td>04/19/20</td>\n",
              "        <td>340.64</td>\n",
              "    </tr>\n",
              "</table>"
            ],
            "text/plain": [
              "[('00001', 'jj451', '02001', '1111-1111-1111-1112', '11/29/19', 220.91),\n",
              " ('00002', 'jj451', '04131', '1111-1111-1111-1112', '11/30/19', 185.42),\n",
              " ('00003', 'jj451', '06731', '1111-1111-1111-1112', '11/30/19', 202.8),\n",
              " ('00004', 'sb420', '09831', '1111-2222-3333-4444', '03/22/20', 197.03),\n",
              " ('00005', 'ss828', '01022', '9999-8888-7777-6666', '04/19/20', 340.64)]"
            ]
          },
          "metadata": {
            "tags": []
          },
          "execution_count": 36
        }
      ]
    },
    {
      "cell_type": "code",
      "metadata": {
        "colab": {
          "base_uri": "https://localhost:8080/"
        },
        "id": "9RFQNaLBdSPJ",
        "outputId": "1ac4b957-8b22-4716-9ab8-aedb0cb43388"
      },
      "source": [
        "%%sql\n",
        "DROP TABLE IF EXISTS Rentals;\n",
        "CREATE TABLE Rentals(rental_id text primary key, guest_id text, rental_type text, day_limit text);\n"
      ],
      "execution_count": 37,
      "outputs": [
        {
          "output_type": "stream",
          "text": [
            " * sqlite:///cyberHotelDatabase.db\n",
            "Done.\n",
            "Done.\n"
          ],
          "name": "stdout"
        },
        {
          "output_type": "execute_result",
          "data": {
            "text/plain": [
              "[]"
            ]
          },
          "metadata": {
            "tags": []
          },
          "execution_count": 37
        }
      ]
    },
    {
      "cell_type": "code",
      "metadata": {
        "colab": {
          "base_uri": "https://localhost:8080/"
        },
        "id": "kVoUuRqVeBQO",
        "outputId": "d431ace9-a237-4526-8fa0-e7b9546bf36f"
      },
      "source": [
        "%%sql\n",
        "INSERT INTO Rentals VALUES('02001','jj451','PS5','4');\n",
        "INSERT INTO Rentals VALUES('04131','jj451','X Box','3');\n",
        "INSERT INTO Rentals VALUES('06731','jj451','iPad Pro','2');\n",
        "INSERT INTO Rentals VALUES('09831','sb420','Smart Toaster','1');\n",
        "INSERT INTO Rentals VALUES('01022','ss828','Mac Book','2');"
      ],
      "execution_count": 38,
      "outputs": [
        {
          "output_type": "stream",
          "text": [
            " * sqlite:///cyberHotelDatabase.db\n",
            "1 rows affected.\n",
            "1 rows affected.\n",
            "1 rows affected.\n",
            "1 rows affected.\n",
            "1 rows affected.\n"
          ],
          "name": "stdout"
        },
        {
          "output_type": "execute_result",
          "data": {
            "text/plain": [
              "[]"
            ]
          },
          "metadata": {
            "tags": []
          },
          "execution_count": 38
        }
      ]
    },
    {
      "cell_type": "code",
      "metadata": {
        "colab": {
          "base_uri": "https://localhost:8080/",
          "height": 174
        },
        "id": "9XwwlnzefQto",
        "outputId": "b52141ab-ae02-4728-b276-a6d5b629a536"
      },
      "source": [
        "%%sql\n",
        "SELECT * FROM Rentals;"
      ],
      "execution_count": 39,
      "outputs": [
        {
          "output_type": "stream",
          "text": [
            " * sqlite:///cyberHotelDatabase.db\n",
            "Done.\n"
          ],
          "name": "stdout"
        },
        {
          "output_type": "execute_result",
          "data": {
            "text/html": [
              "<table>\n",
              "    <tr>\n",
              "        <th>rental_id</th>\n",
              "        <th>guest_id</th>\n",
              "        <th>rental_type</th>\n",
              "        <th>day_limit</th>\n",
              "    </tr>\n",
              "    <tr>\n",
              "        <td>02001</td>\n",
              "        <td>jj451</td>\n",
              "        <td>PS5</td>\n",
              "        <td>4</td>\n",
              "    </tr>\n",
              "    <tr>\n",
              "        <td>04131</td>\n",
              "        <td>jj451</td>\n",
              "        <td>X Box</td>\n",
              "        <td>3</td>\n",
              "    </tr>\n",
              "    <tr>\n",
              "        <td>06731</td>\n",
              "        <td>jj451</td>\n",
              "        <td>iPad Pro</td>\n",
              "        <td>2</td>\n",
              "    </tr>\n",
              "    <tr>\n",
              "        <td>09831</td>\n",
              "        <td>sb420</td>\n",
              "        <td>Smart Toaster</td>\n",
              "        <td>1</td>\n",
              "    </tr>\n",
              "    <tr>\n",
              "        <td>01022</td>\n",
              "        <td>ss828</td>\n",
              "        <td>Mac Book</td>\n",
              "        <td>2</td>\n",
              "    </tr>\n",
              "</table>"
            ],
            "text/plain": [
              "[('02001', 'jj451', 'PS5', '4'),\n",
              " ('04131', 'jj451', 'X Box', '3'),\n",
              " ('06731', 'jj451', 'iPad Pro', '2'),\n",
              " ('09831', 'sb420', 'Smart Toaster', '1'),\n",
              " ('01022', 'ss828', 'Mac Book', '2')]"
            ]
          },
          "metadata": {
            "tags": []
          },
          "execution_count": 39
        }
      ]
    },
    {
      "cell_type": "code",
      "metadata": {
        "colab": {
          "base_uri": "https://localhost:8080/"
        },
        "id": "ca1l77OKfcX-",
        "outputId": "070f2a33-0092-4107-caa5-bb94ea51daa6"
      },
      "source": [
        "%%sql\n",
        "DROP TABLE IF EXISTS Employee;\n",
        "CREATE TABLE Employee(employee_id text, hotel_id text, first_name text, last_name text, position text);"
      ],
      "execution_count": 40,
      "outputs": [
        {
          "output_type": "stream",
          "text": [
            " * sqlite:///cyberHotelDatabase.db\n",
            "Done.\n",
            "Done.\n"
          ],
          "name": "stdout"
        },
        {
          "output_type": "execute_result",
          "data": {
            "text/plain": [
              "[]"
            ]
          },
          "metadata": {
            "tags": []
          },
          "execution_count": 40
        }
      ]
    },
    {
      "cell_type": "code",
      "metadata": {
        "colab": {
          "base_uri": "https://localhost:8080/"
        },
        "id": "HG1hghEcgA0P",
        "outputId": "09921cad-5d80-4125-bdab-4ea846735d9a"
      },
      "source": [
        "%%sql\n",
        "INSERT INTO Employee VALUES('abc100','33333','JJ','Watt','Maid');\n",
        "INSERT INTO Employee VALUES('abc200','33333','Lil','Wayne','Butler');\n",
        "INSERT INTO Employee VALUES('abc300','11111','Captain','Crunch','Maid');\n",
        "INSERT INTO Employee VALUES('abc400','22222','Abe','Lincoln','Butler');\n",
        "INSERT INTO Employee VALUES('abc500','33333','Doctor','Fauci','Maid');"
      ],
      "execution_count": 41,
      "outputs": [
        {
          "output_type": "stream",
          "text": [
            " * sqlite:///cyberHotelDatabase.db\n",
            "1 rows affected.\n",
            "1 rows affected.\n",
            "1 rows affected.\n",
            "1 rows affected.\n",
            "1 rows affected.\n"
          ],
          "name": "stdout"
        },
        {
          "output_type": "execute_result",
          "data": {
            "text/plain": [
              "[]"
            ]
          },
          "metadata": {
            "tags": []
          },
          "execution_count": 41
        }
      ]
    },
    {
      "cell_type": "code",
      "metadata": {
        "colab": {
          "base_uri": "https://localhost:8080/",
          "height": 174
        },
        "id": "svKHX5u5hp-E",
        "outputId": "68350912-027a-4bfc-9f77-abf7adc42aac"
      },
      "source": [
        "%%sql\n",
        "SELECT * FROM Employee;"
      ],
      "execution_count": 42,
      "outputs": [
        {
          "output_type": "stream",
          "text": [
            " * sqlite:///cyberHotelDatabase.db\n",
            "Done.\n"
          ],
          "name": "stdout"
        },
        {
          "output_type": "execute_result",
          "data": {
            "text/html": [
              "<table>\n",
              "    <tr>\n",
              "        <th>employee_id</th>\n",
              "        <th>hotel_id</th>\n",
              "        <th>first_name</th>\n",
              "        <th>last_name</th>\n",
              "        <th>position</th>\n",
              "    </tr>\n",
              "    <tr>\n",
              "        <td>abc100</td>\n",
              "        <td>33333</td>\n",
              "        <td>JJ</td>\n",
              "        <td>Watt</td>\n",
              "        <td>Maid</td>\n",
              "    </tr>\n",
              "    <tr>\n",
              "        <td>abc200</td>\n",
              "        <td>33333</td>\n",
              "        <td>Lil</td>\n",
              "        <td>Wayne</td>\n",
              "        <td>Butler</td>\n",
              "    </tr>\n",
              "    <tr>\n",
              "        <td>abc300</td>\n",
              "        <td>11111</td>\n",
              "        <td>Captain</td>\n",
              "        <td>Crunch</td>\n",
              "        <td>Maid</td>\n",
              "    </tr>\n",
              "    <tr>\n",
              "        <td>abc400</td>\n",
              "        <td>22222</td>\n",
              "        <td>Abe</td>\n",
              "        <td>Lincoln</td>\n",
              "        <td>Butler</td>\n",
              "    </tr>\n",
              "    <tr>\n",
              "        <td>abc500</td>\n",
              "        <td>33333</td>\n",
              "        <td>Doctor</td>\n",
              "        <td>Fauci</td>\n",
              "        <td>Maid</td>\n",
              "    </tr>\n",
              "</table>"
            ],
            "text/plain": [
              "[('abc100', '33333', 'JJ', 'Watt', 'Maid'),\n",
              " ('abc200', '33333', 'Lil', 'Wayne', 'Butler'),\n",
              " ('abc300', '11111', 'Captain', 'Crunch', 'Maid'),\n",
              " ('abc400', '22222', 'Abe', 'Lincoln', 'Butler'),\n",
              " ('abc500', '33333', 'Doctor', 'Fauci', 'Maid')]"
            ]
          },
          "metadata": {
            "tags": []
          },
          "execution_count": 42
        }
      ]
    },
    {
      "cell_type": "markdown",
      "metadata": {
        "id": "YGOruu1Li-nf"
      },
      "source": [
        "## **How many maids does Hotel #3 have employed currently?**"
      ]
    },
    {
      "cell_type": "code",
      "metadata": {
        "colab": {
          "base_uri": "https://localhost:8080/",
          "height": 92
        },
        "id": "kSvav-XkjgcL",
        "outputId": "c6cc2e9a-edd4-4583-af30-5287d19d4622"
      },
      "source": [
        "%%sql\n",
        "SELECT COUNT(position) from Employee WHERE position LIKE '%Maid%' AND hotel_id LIKE '%33333%';"
      ],
      "execution_count": 43,
      "outputs": [
        {
          "output_type": "stream",
          "text": [
            " * sqlite:///cyberHotelDatabase.db\n",
            "Done.\n"
          ],
          "name": "stdout"
        },
        {
          "output_type": "execute_result",
          "data": {
            "text/html": [
              "<table>\n",
              "    <tr>\n",
              "        <th>COUNT(position)</th>\n",
              "    </tr>\n",
              "    <tr>\n",
              "        <td>2</td>\n",
              "    </tr>\n",
              "</table>"
            ],
            "text/plain": [
              "[(2,)]"
            ]
          },
          "metadata": {
            "tags": []
          },
          "execution_count": 43
        }
      ]
    },
    {
      "cell_type": "markdown",
      "metadata": {
        "id": "UYQW4cZTjVkZ"
      },
      "source": [
        "## **What devices has Julio Jones rented?**"
      ]
    },
    {
      "cell_type": "code",
      "metadata": {
        "colab": {
          "base_uri": "https://localhost:8080/",
          "height": 134
        },
        "id": "GMXwmU3tjhL-",
        "outputId": "d2db44ca-c633-419d-d7bc-8238326376ec"
      },
      "source": [
        "%%sql\n",
        "SELECT DISTINCT(rental_type) from Rentals WHERE guest_id LIKE '%jj451';"
      ],
      "execution_count": 44,
      "outputs": [
        {
          "output_type": "stream",
          "text": [
            " * sqlite:///cyberHotelDatabase.db\n",
            "Done.\n"
          ],
          "name": "stdout"
        },
        {
          "output_type": "execute_result",
          "data": {
            "text/html": [
              "<table>\n",
              "    <tr>\n",
              "        <th>rental_type</th>\n",
              "    </tr>\n",
              "    <tr>\n",
              "        <td>PS5</td>\n",
              "    </tr>\n",
              "    <tr>\n",
              "        <td>X Box</td>\n",
              "    </tr>\n",
              "    <tr>\n",
              "        <td>iPad Pro</td>\n",
              "    </tr>\n",
              "</table>"
            ],
            "text/plain": [
              "[('PS5',), ('X Box',), ('iPad Pro',)]"
            ]
          },
          "metadata": {
            "tags": []
          },
          "execution_count": 44
        }
      ]
    },
    {
      "cell_type": "markdown",
      "metadata": {
        "id": "_lMASzwdjhtC"
      },
      "source": [
        "## **What is the total revenue for all transactions?**"
      ]
    },
    {
      "cell_type": "code",
      "metadata": {
        "colab": {
          "base_uri": "https://localhost:8080/",
          "height": 92
        },
        "id": "EgXVjKQcjxmx",
        "outputId": "410a68af-f6d9-4c13-f821-e8c6ab570e3a"
      },
      "source": [
        "%%sql\n",
        "SELECT SUM(transaction_amount) from Transactions;"
      ],
      "execution_count": 45,
      "outputs": [
        {
          "output_type": "stream",
          "text": [
            " * sqlite:///cyberHotelDatabase.db\n",
            "Done.\n"
          ],
          "name": "stdout"
        },
        {
          "output_type": "execute_result",
          "data": {
            "text/html": [
              "<table>\n",
              "    <tr>\n",
              "        <th>SUM(transaction_amount)</th>\n",
              "    </tr>\n",
              "    <tr>\n",
              "        <td>1146.8</td>\n",
              "    </tr>\n",
              "</table>"
            ],
            "text/plain": [
              "[(1146.8,)]"
            ]
          },
          "metadata": {
            "tags": []
          },
          "execution_count": 45
        }
      ]
    },
    {
      "cell_type": "markdown",
      "metadata": {
        "id": "AYBjVZ-NSozf"
      },
      "source": [
        "# **How much revenue in rentals came in during November?**"
      ]
    },
    {
      "cell_type": "code",
      "metadata": {
        "id": "8dpi87nnTDEg",
        "colab": {
          "base_uri": "https://localhost:8080/",
          "height": 92
        },
        "outputId": "c2657345-f925-4261-ecf9-184e37f46e77"
      },
      "source": [
        "%%sql\n",
        "SELECT SUM(transaction_amount) FROM Transactions WHERE date LIKE \"11%\";"
      ],
      "execution_count": 46,
      "outputs": [
        {
          "output_type": "stream",
          "text": [
            " * sqlite:///cyberHotelDatabase.db\n",
            "Done.\n"
          ],
          "name": "stdout"
        },
        {
          "output_type": "execute_result",
          "data": {
            "text/html": [
              "<table>\n",
              "    <tr>\n",
              "        <th>SUM(transaction_amount)</th>\n",
              "    </tr>\n",
              "    <tr>\n",
              "        <td>609.13</td>\n",
              "    </tr>\n",
              "</table>"
            ],
            "text/plain": [
              "[(609.13,)]"
            ]
          },
          "metadata": {
            "tags": []
          },
          "execution_count": 46
        }
      ]
    },
    {
      "cell_type": "markdown",
      "metadata": {
        "id": "b_PoTsAin759"
      },
      "source": [
        "# **Why are these questions important?** \n",
        "\n",
        "We believe that these questions are relevant because they can potentially relate to real world scenarios in the hotel business. For the first question it is important for a hotel business to keep track of how many employees they have, what the employees are doing, and where they work at. For the second question, this question is relevant because a hotel worker such as a cashier at the front desk may have to pull up information in realtime for a specific guest. The last question is relevant because it is important that hotels keep track of their revenue and earnings, after all it is a business and the purpose of a business is to make money."
      ]
    }
  ]
}
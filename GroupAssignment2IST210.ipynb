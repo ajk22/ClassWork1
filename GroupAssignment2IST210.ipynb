{
  "nbformat": 4,
  "nbformat_minor": 0,
  "metadata": {
    "colab": {
      "name": "GroupAssignment2IST210.ipynb",
      "provenance": [],
      "authorship_tag": "ABX9TyPIeQ5utUlkQqU9EkFHYSxN",
      "include_colab_link": true
    },
    "kernelspec": {
      "name": "python3",
      "display_name": "Python 3"
    }
  },
  "cells": [
    {
      "cell_type": "markdown",
      "metadata": {
        "id": "view-in-github",
        "colab_type": "text"
      },
      "source": [
        "<a href=\"https://colab.research.google.com/github/ajk22/ClassWork1/blob/master/GroupAssignment2IST210.ipynb\" target=\"_parent\"><img src=\"https://colab.research.google.com/assets/colab-badge.svg\" alt=\"Open In Colab\"/></a>"
      ]
    },
    {
      "cell_type": "markdown",
      "metadata": {
        "id": "-5IS4wTCqCjS"
      },
      "source": [
        "**Description:**"
      ]
    },
    {
      "cell_type": "markdown",
      "metadata": {
        "id": "WsKUHjm5qVVw"
      },
      "source": [
        "Our group's ER Diagram is a database for a supposed tech hotel that provides technology rentals for guests such as laptops, gaming systems, smart TVs and much more. The entities in our ER Diagram include Hotel, Employee, Guests, Room, Transaction, and Rental. The hotel entity possesses the attributes hotel ID number (primary key), ocation, and number of rooms. Branching off from the hotel are the entities employee, guests, and room. The employee entity has a primary key called employee ID number and has the attributes position, first name and last name. The entity guests has a primary key called guest ID nymber and has the attributes first name, last name, and room number which is a foreign key for the room entity. The room entity has a primary key called room number and possesses the attributes bed type and floor number. The transaction entity is then connected to the guest entity because guests are who makes transactions in the hotel. The transaction table has a primary key called transaction ID and the attributes card number and guest ID number which is a foreign key for the guest entity. Our last entity, rental, is connected to the transaction entity because a rental is considered a transaction. Our rental table has a primary key called rental ID number and has attributes for the amount of time for the rental, and the type of rental. We believe this ER Diagram successfully represents our idea of a tech hotel that offers rentals to guests. "
      ]
    },
    {
      "cell_type": "markdown",
      "metadata": {
        "id": "sAakcl_5wqtt"
      },
      "source": [
        "![Assignment2 ER Diagram](https://raw.githubusercontent.com/ajk22/ClassWork1/master/Images/Group%20Assignment%202.png)"
      ]
    }
  ]
}
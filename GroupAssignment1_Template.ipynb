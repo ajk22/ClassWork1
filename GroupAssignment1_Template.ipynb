{
  "nbformat": 4,
  "nbformat_minor": 0,
  "metadata": {
    "colab": {
      "name": "Copy of GroupAssignment1-Template.ipynb",
      "provenance": [],
      "include_colab_link": true
    },
    "kernelspec": {
      "name": "python3",
      "display_name": "Python 3"
    }
  },
  "cells": [
    {
      "cell_type": "markdown",
      "metadata": {
        "id": "view-in-github",
        "colab_type": "text"
      },
      "source": [
        "<a href=\"https://colab.research.google.com/github/ajk22/ClassWork1/blob/master/GroupAssignment1_Template.ipynb\" target=\"_parent\"><img src=\"https://colab.research.google.com/assets/colab-badge.svg\" alt=\"Open In Colab\"/></a>"
      ]
    },
    {
      "cell_type": "markdown",
      "metadata": {
        "id": "UblhAIGuGF27",
        "colab_type": "text"
      },
      "source": [
        "# Hotel"
      ]
    },
    {
      "cell_type": "markdown",
      "metadata": {
        "id": "RlR0_Ol4GW3b",
        "colab_type": "text"
      },
      "source": [
        "### what is your idea?"
      ]
    },
    {
      "cell_type": "markdown",
      "metadata": {
        "id": "HU68Zv5MGY97",
        "colab_type": "text"
      },
      "source": [
        "-- A hotel where customers can rent rooms. This can be considered your standard hotel."
      ]
    },
    {
      "cell_type": "markdown",
      "metadata": {
        "id": "45Q0PBrIGiIg",
        "colab_type": "text"
      },
      "source": [
        "### what makes it unique?"
      ]
    },
    {
      "cell_type": "markdown",
      "metadata": {
        "id": "8WOfTAuqGjoc",
        "colab_type": "text"
      },
      "source": [
        "-- Guests can include rentals in their transactions. This allows them to be able have access to various tech devices such as gaming systems, PCs, laptops, etc. which can be purchased by the day."
      ]
    },
    {
      "cell_type": "markdown",
      "metadata": {
        "id": "dVrktWdXGl19",
        "colab_type": "text"
      },
      "source": [
        "### is this a brand-new product or business, or are you borrowing from another business?"
      ]
    },
    {
      "cell_type": "markdown",
      "metadata": {
        "id": "MmGY0leUGnaN",
        "colab_type": "text"
      },
      "source": [
        "-- This hotel business is not necessarily a new idea. Although we are including some original concepts such as the device rental service."
      ]
    },
    {
      "cell_type": "markdown",
      "metadata": {
        "id": "k3oJzVDPGnws",
        "colab_type": "text"
      },
      "source": [
        "### describe a typical business interaction or a day at your business."
      ]
    },
    {
      "cell_type": "markdown",
      "metadata": {
        "id": "GeEKl-lUG1x5",
        "colab_type": "text"
      },
      "source": [
        "-- Customers make transactions and rent rooms from the hotel. Guests have the option to make additional purchases by renting devices for their rooms. Customers can limit the cost of rentals by minimizing time spent using their device. An additional fee will be charged if rentals are broken or damaged while in the possession of the guest."
      ]
    },
    {
      "cell_type": "markdown",
      "metadata": {
        "id": "iUFoC5BuGpID",
        "colab_type": "text"
      },
      "source": [
        "### list your 5 entities/tables and for each, provide details about what data will be stored in the entities/tables."
      ]
    },
    {
      "cell_type": "markdown",
      "metadata": {
        "id": "AiZXrfSMGqZm",
        "colab_type": "text"
      },
      "source": [
        "1. Hotel\n",
        "\n",
        "-- The attributes for Hotel are location, rooms, and ID #\n",
        "\n",
        "2. Employee\n",
        "\n",
        "-- The attributes for Employee are name, position, and ID #\n",
        "\n",
        "3. Room\n",
        "\n",
        "-- The attributes for Room are number, bed type, and floor\n",
        "\n",
        "4. Guest\n",
        "\n",
        "-- The attributes for are name, room #, and ID\n",
        "\n",
        "5. Transaction\n",
        "\n",
        "-- The attributes for Transaction are ID, guest ID, and card #\n",
        "\n",
        "6. Rental\n",
        "\n",
        "-- The attributes for Rental are type, ID, and time"
      ]
    },
    {
      "cell_type": "markdown",
      "metadata": {
        "id": "h2mJWTewHLSn",
        "colab_type": "text"
      },
      "source": [
        "Draw IO Entity Relationship Diagram \n",
        "\n",
        "- save your ER Diagram in Draw.io as PNG and upload it to GitHub\n",
        "\n",
        "  - then add an image to your notebook"
      ]
    },
    {
      "cell_type": "markdown",
      "metadata": {
        "id": "GwUWjnBQ1-jD",
        "colab_type": "text"
      },
      "source": [
        "![Hotel Database V1](https://raw.githubusercontent.com/ajk22/ClassWork1/master/Images/Hotel%20-%20IST%20210.png)"
      ]
    },
    {
      "cell_type": "markdown",
      "metadata": {
        "id": "WFQXwieoHiCe",
        "colab_type": "text"
      },
      "source": [
        "### provide a goal for your project "
      ]
    },
    {
      "cell_type": "markdown",
      "metadata": {
        "id": "cKmoiVHrHnHF",
        "colab_type": "text"
      },
      "source": [
        "-- To provide customers with a desireable hotel experience. We also would like to successfully develop a working database for this hotel business. "
      ]
    }
  ]
}